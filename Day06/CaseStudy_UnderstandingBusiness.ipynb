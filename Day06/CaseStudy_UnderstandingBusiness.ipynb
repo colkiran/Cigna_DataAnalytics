{
 "cells": [
  {
   "cell_type": "code",
   "execution_count": 3,
   "id": "2176184a-a4ac-42e6-9a32-79830b5cd2d1",
   "metadata": {},
   "outputs": [],
   "source": [
    "import numpy as np\n",
    "import pandas as pd\n",
    "import matplotlib.pyplot as plt\n",
    "import seaborn as sns\n",
    "\n",
    "%matplotlib inline"
   ]
  },
  {
   "cell_type": "code",
   "execution_count": 5,
   "id": "6d8755b0-53e6-42b7-b144-dffc3aa90303",
   "metadata": {},
   "outputs": [],
   "source": [
    "# import the data\n",
    "customers = pd.read_csv(\"./Dataset/CUSTOMERS.csv\")\n",
    "geo_loc = pd.read_csv(\"./Dataset/GEO_LOCATION.csv\")\n",
    "order_items = pd.read_csv(\"./Dataset/ORDER_ITEMS.csv\")\n",
    "order_payments = pd.read_csv(\"./Dataset/ORDER_PAYMENTS.csv\")\n",
    "order_review_ratings = pd.read_csv(\"./Dataset/ORDER_REVIEW_RATINGS.csv\")\n",
    "orders = pd.read_csv(\"./Dataset/ORDERS.csv\")\n",
    "products = pd.read_csv(\"./Dataset/PRODUCTS.csv\")\n",
    "sellers = pd.read_csv(\"./Dataset/SELLERS.csv\")"
   ]
  },
  {
   "cell_type": "code",
   "execution_count": 6,
   "id": "1020ca21-9a01-436d-a58e-cd4b4e303167",
   "metadata": {},
   "outputs": [
    {
     "data": {
      "text/html": [
       "<div>\n",
       "<style scoped>\n",
       "    .dataframe tbody tr th:only-of-type {\n",
       "        vertical-align: middle;\n",
       "    }\n",
       "\n",
       "    .dataframe tbody tr th {\n",
       "        vertical-align: top;\n",
       "    }\n",
       "\n",
       "    .dataframe thead th {\n",
       "        text-align: right;\n",
       "    }\n",
       "</style>\n",
       "<table border=\"1\" class=\"dataframe\">\n",
       "  <thead>\n",
       "    <tr style=\"text-align: right;\">\n",
       "      <th></th>\n",
       "      <th>customer_id</th>\n",
       "      <th>customer_unique_id</th>\n",
       "      <th>customer_zip_code_prefix</th>\n",
       "      <th>customer_city</th>\n",
       "      <th>customer_state</th>\n",
       "    </tr>\n",
       "  </thead>\n",
       "  <tbody>\n",
       "    <tr>\n",
       "      <th>0</th>\n",
       "      <td>06b8999e2fba1a1fbc88172c00ba8bc7</td>\n",
       "      <td>861eff4711a542e4b93843c6dd7febb0</td>\n",
       "      <td>14409</td>\n",
       "      <td>Adilabad</td>\n",
       "      <td>Andhra Pradesh</td>\n",
       "    </tr>\n",
       "    <tr>\n",
       "      <th>1</th>\n",
       "      <td>18955e83d337fd6b2def6b18a428ac77</td>\n",
       "      <td>290c77bc529b7ac935b93aa66c333dc3</td>\n",
       "      <td>9790</td>\n",
       "      <td>Adoni</td>\n",
       "      <td>Andhra Pradesh</td>\n",
       "    </tr>\n",
       "  </tbody>\n",
       "</table>\n",
       "</div>"
      ],
      "text/plain": [
       "                        customer_id                customer_unique_id  \\\n",
       "0  06b8999e2fba1a1fbc88172c00ba8bc7  861eff4711a542e4b93843c6dd7febb0   \n",
       "1  18955e83d337fd6b2def6b18a428ac77  290c77bc529b7ac935b93aa66c333dc3   \n",
       "\n",
       "   customer_zip_code_prefix customer_city  customer_state  \n",
       "0                     14409      Adilabad  Andhra Pradesh  \n",
       "1                      9790         Adoni  Andhra Pradesh  "
      ]
     },
     "execution_count": 6,
     "metadata": {},
     "output_type": "execute_result"
    }
   ],
   "source": [
    "customers.head(2)"
   ]
  },
  {
   "cell_type": "code",
   "execution_count": 8,
   "id": "16ce0a77-edbb-4efd-a2b5-df3535dea7a2",
   "metadata": {},
   "outputs": [
    {
     "data": {
      "text/html": [
       "<div>\n",
       "<style scoped>\n",
       "    .dataframe tbody tr th:only-of-type {\n",
       "        vertical-align: middle;\n",
       "    }\n",
       "\n",
       "    .dataframe tbody tr th {\n",
       "        vertical-align: top;\n",
       "    }\n",
       "\n",
       "    .dataframe thead th {\n",
       "        text-align: right;\n",
       "    }\n",
       "</style>\n",
       "<table border=\"1\" class=\"dataframe\">\n",
       "  <thead>\n",
       "    <tr style=\"text-align: right;\">\n",
       "      <th></th>\n",
       "      <th>order_id</th>\n",
       "      <th>customer_id</th>\n",
       "      <th>order_status</th>\n",
       "      <th>order_purchase_timestamp</th>\n",
       "      <th>order_approved_at</th>\n",
       "      <th>order_delivered_carrier_date</th>\n",
       "      <th>order_delivered_customer_date</th>\n",
       "      <th>order_estimated_delivery_date</th>\n",
       "    </tr>\n",
       "  </thead>\n",
       "  <tbody>\n",
       "    <tr>\n",
       "      <th>0</th>\n",
       "      <td>e481f51cbdc54678b7cc49136f2d6af7</td>\n",
       "      <td>9ef432eb6251297304e76186b10a928d</td>\n",
       "      <td>delivered</td>\n",
       "      <td>10/2/2017 10:56</td>\n",
       "      <td>10/2/2017 11:07</td>\n",
       "      <td>10/4/2017 19:55</td>\n",
       "      <td>10/10/2017 21:25</td>\n",
       "      <td>10/18/2017 0:00</td>\n",
       "    </tr>\n",
       "    <tr>\n",
       "      <th>1</th>\n",
       "      <td>53cdb2fc8bc7dce0b6741e2150273451</td>\n",
       "      <td>b0830fb4747a6c6d20dea0b8c802d7ef</td>\n",
       "      <td>delivered</td>\n",
       "      <td>7/24/2018 20:41</td>\n",
       "      <td>7/26/2018 3:24</td>\n",
       "      <td>7/26/2018 14:31</td>\n",
       "      <td>8/7/2018 15:27</td>\n",
       "      <td>8/13/2018 0:00</td>\n",
       "    </tr>\n",
       "  </tbody>\n",
       "</table>\n",
       "</div>"
      ],
      "text/plain": [
       "                           order_id                       customer_id  \\\n",
       "0  e481f51cbdc54678b7cc49136f2d6af7  9ef432eb6251297304e76186b10a928d   \n",
       "1  53cdb2fc8bc7dce0b6741e2150273451  b0830fb4747a6c6d20dea0b8c802d7ef   \n",
       "\n",
       "  order_status order_purchase_timestamp order_approved_at  \\\n",
       "0    delivered          10/2/2017 10:56   10/2/2017 11:07   \n",
       "1    delivered          7/24/2018 20:41    7/26/2018 3:24   \n",
       "\n",
       "  order_delivered_carrier_date order_delivered_customer_date  \\\n",
       "0              10/4/2017 19:55              10/10/2017 21:25   \n",
       "1              7/26/2018 14:31                8/7/2018 15:27   \n",
       "\n",
       "  order_estimated_delivery_date  \n",
       "0               10/18/2017 0:00  \n",
       "1                8/13/2018 0:00  "
      ]
     },
     "execution_count": 8,
     "metadata": {},
     "output_type": "execute_result"
    }
   ],
   "source": [
    "orders.head(2)"
   ]
  },
  {
   "cell_type": "code",
   "execution_count": 9,
   "id": "c5997a7e-d705-49ac-b777-e939fe93a808",
   "metadata": {},
   "outputs": [
    {
     "data": {
      "text/html": [
       "<div>\n",
       "<style scoped>\n",
       "    .dataframe tbody tr th:only-of-type {\n",
       "        vertical-align: middle;\n",
       "    }\n",
       "\n",
       "    .dataframe tbody tr th {\n",
       "        vertical-align: top;\n",
       "    }\n",
       "\n",
       "    .dataframe thead th {\n",
       "        text-align: right;\n",
       "    }\n",
       "</style>\n",
       "<table border=\"1\" class=\"dataframe\">\n",
       "  <thead>\n",
       "    <tr style=\"text-align: right;\">\n",
       "      <th></th>\n",
       "      <th>product_id</th>\n",
       "      <th>product_category_name</th>\n",
       "      <th>product_name_lenght</th>\n",
       "      <th>product_description_lenght</th>\n",
       "      <th>product_photos_qty</th>\n",
       "      <th>product_weight_g</th>\n",
       "      <th>product_length_cm</th>\n",
       "      <th>product_height_cm</th>\n",
       "      <th>product_width_cm</th>\n",
       "    </tr>\n",
       "  </thead>\n",
       "  <tbody>\n",
       "    <tr>\n",
       "      <th>0</th>\n",
       "      <td>1e9e8ef04dbcff4541ed26657ea517e5</td>\n",
       "      <td>Perfumery</td>\n",
       "      <td>40.0</td>\n",
       "      <td>287.0</td>\n",
       "      <td>1.0</td>\n",
       "      <td>225.0</td>\n",
       "      <td>16.0</td>\n",
       "      <td>10.0</td>\n",
       "      <td>14.0</td>\n",
       "    </tr>\n",
       "    <tr>\n",
       "      <th>1</th>\n",
       "      <td>3aa071139cb16b67ca9e5dea641aaa2f</td>\n",
       "      <td>Art</td>\n",
       "      <td>44.0</td>\n",
       "      <td>276.0</td>\n",
       "      <td>1.0</td>\n",
       "      <td>1000.0</td>\n",
       "      <td>30.0</td>\n",
       "      <td>18.0</td>\n",
       "      <td>20.0</td>\n",
       "    </tr>\n",
       "  </tbody>\n",
       "</table>\n",
       "</div>"
      ],
      "text/plain": [
       "                         product_id product_category_name  \\\n",
       "0  1e9e8ef04dbcff4541ed26657ea517e5             Perfumery   \n",
       "1  3aa071139cb16b67ca9e5dea641aaa2f                   Art   \n",
       "\n",
       "   product_name_lenght  product_description_lenght  product_photos_qty  \\\n",
       "0                 40.0                       287.0                 1.0   \n",
       "1                 44.0                       276.0                 1.0   \n",
       "\n",
       "   product_weight_g  product_length_cm  product_height_cm  product_width_cm  \n",
       "0             225.0               16.0               10.0              14.0  \n",
       "1            1000.0               30.0               18.0              20.0  "
      ]
     },
     "execution_count": 9,
     "metadata": {},
     "output_type": "execute_result"
    }
   ],
   "source": [
    "products.head(2)"
   ]
  },
  {
   "cell_type": "markdown",
   "id": "3598e165-9772-4ee0-8376-e5ffa399e866",
   "metadata": {},
   "source": [
    "## Perforn Detialed explanatory Analysis\n",
    "\n",
    "### Define & calculate high level metrics like (Total Revenue, Total quantity, Total products, Total categories, Total sellers, Total locations, Total channels, Total payment methods etc…)"
   ]
  },
  {
   "cell_type": "code",
   "execution_count": null,
   "id": "ce95d1c0-8e7f-47c8-9fda-4c51537ed26d",
   "metadata": {},
   "outputs": [],
   "source": []
  },
  {
   "cell_type": "code",
   "execution_count": 11,
   "id": "188df4af-33f7-4546-a6f1-d5e0656936b3",
   "metadata": {},
   "outputs": [
    {
     "name": "stdout",
     "output_type": "stream",
     "text": [
      "Total Revenue =  13591643.7\n",
      "Total Quantity = 112650\n",
      "Total Products = 32951\n",
      "Total Categories = 71\n",
      "Total Sellers = 3095\n",
      "Total Locations =  19015\n",
      "Total Payments methods = 5\n"
     ]
    }
   ],
   "source": [
    "# Total Revenue\n",
    "print(\"Total Revenue = \", round(order_items.price.sum(), 2))\n",
    "\n",
    "# Total quantity\n",
    "print(\"Total Quantity =\", order_items.shape[0])\n",
    "\n",
    "# Total products\n",
    "print(\"Total Products =\", products.product_id.nunique())\n",
    "\n",
    "# Total categories\n",
    "print(\"Total Categories =\", products.product_category_name.nunique())\n",
    "\n",
    "# Total sellers\n",
    "print(\"Total Sellers =\", sellers.seller_id.nunique())\n",
    "\n",
    "# Total locations\n",
    "print(\"Total Locations = \", geo_loc.geolocation_zip_code_prefix.nunique())\n",
    "\n",
    "# Total payments methods\n",
    "print(\"Total Payments methods =\", order_payments.payment_type.nunique())\n"
   ]
  },
  {
   "cell_type": "markdown",
   "id": "da7ba2ec-025e-4d49-901d-908b79a2db7b",
   "metadata": {},
   "source": [
    "# Understanding how many new customers acquired every month "
   ]
  },
  {
   "cell_type": "code",
   "execution_count": 12,
   "id": "2d734433-8a6a-467f-976b-6d15b3270bc9",
   "metadata": {},
   "outputs": [],
   "source": [
    "# changing the data type to time\n",
    "orders['order_purchase_timestamp'] = pd.to_datetime(orders.order_purchase_timestamp, format = \"%m/%d/%Y %H:%M\")"
   ]
  },
  {
   "cell_type": "code",
   "execution_count": 13,
   "id": "2d2fe41e-3ee7-4161-80b9-f35df736df5d",
   "metadata": {},
   "outputs": [],
   "source": [
    "orders['Year_month'] = orders.order_purchase_timestamp.apply(lambda x : pd.Timestamp.strftime(x, format=\"%Y-%m\"))"
   ]
  },
  {
   "cell_type": "code",
   "execution_count": 14,
   "id": "e8b901cf-55c6-45b9-9721-80ff1848ee32",
   "metadata": {},
   "outputs": [],
   "source": [
    "#merging customers and orders data\n",
    "cust_orders = pd.merge(customers, orders, how= \"left\", on=\"customer_id\")"
   ]
  },
  {
   "cell_type": "code",
   "execution_count": 15,
   "id": "83922402-1ec1-48b1-901a-7041418c78e9",
   "metadata": {},
   "outputs": [],
   "source": [
    "cust_month = cust_orders.loc[:, ['customer_unique_id', \"Year_month\"]]"
   ]
  },
  {
   "cell_type": "code",
   "execution_count": 16,
   "id": "b7e5ef09-d00d-4532-b151-1db4a6eec311",
   "metadata": {},
   "outputs": [],
   "source": [
    "cust_month.drop_duplicates(subset=\"customer_unique_id\", inplace=True)"
   ]
  },
  {
   "cell_type": "code",
   "execution_count": 19,
   "id": "089eb3d7-2833-4402-af48-813d5e97382c",
   "metadata": {},
   "outputs": [
    {
     "data": {
      "text/html": [
       "<div>\n",
       "<style scoped>\n",
       "    .dataframe tbody tr th:only-of-type {\n",
       "        vertical-align: middle;\n",
       "    }\n",
       "\n",
       "    .dataframe tbody tr th {\n",
       "        vertical-align: top;\n",
       "    }\n",
       "\n",
       "    .dataframe thead th {\n",
       "        text-align: right;\n",
       "    }\n",
       "</style>\n",
       "<table border=\"1\" class=\"dataframe\">\n",
       "  <thead>\n",
       "    <tr style=\"text-align: right;\">\n",
       "      <th></th>\n",
       "      <th>customer_unique_id</th>\n",
       "    </tr>\n",
       "    <tr>\n",
       "      <th>Year_month</th>\n",
       "      <th></th>\n",
       "    </tr>\n",
       "  </thead>\n",
       "  <tbody>\n",
       "    <tr>\n",
       "      <th>2016-09</th>\n",
       "      <td>4</td>\n",
       "    </tr>\n",
       "    <tr>\n",
       "      <th>2016-10</th>\n",
       "      <td>315</td>\n",
       "    </tr>\n",
       "  </tbody>\n",
       "</table>\n",
       "</div>"
      ],
      "text/plain": [
       "            customer_unique_id\n",
       "Year_month                    \n",
       "2016-09                      4\n",
       "2016-10                    315"
      ]
     },
     "execution_count": 19,
     "metadata": {},
     "output_type": "execute_result"
    }
   ],
   "source": [
    "new_cust_monthly = cust_month.groupby('Year_month')[['customer_unique_id']].count()\n",
    "new_cust_monthly.head(2)"
   ]
  },
  {
   "cell_type": "code",
   "execution_count": 22,
   "id": "13f666dd-8f6a-4dd4-81ae-4605ea93498b",
   "metadata": {},
   "outputs": [
    {
     "data": {
      "image/png": "[encoded data removed]",
      "text/plain": [
       "<Figure size 1800x500 with 1 Axes>"
      ]
     },
     "metadata": {},
     "output_type": "display_data"
    }
   ],
   "source": [
    "new_cust_monthly.plot(kind = \"bar\", figsize=(18, 5))\n",
    "plt.ylabel(\"Count of Customer\")\n",
    "plt.title('New customers acquired everymonth')\n",
    "plt.show()"
   ]
  },
  {
   "cell_type": "markdown",
   "id": "4c8dad9b-a238-486a-9c9b-80eaf85737ce",
   "metadata": {},
   "source": [
    "# Understand the retention of customer on month on month basis"
   ]
  },
  {
   "cell_type": "code",
   "execution_count": 26,
   "id": "1c8d21fb-9593-4f89-b3e3-95af55377e58",
   "metadata": {},
   "outputs": [
    {
     "data": {
      "text/html": [
       "<div>\n",
       "<style scoped>\n",
       "    .dataframe tbody tr th:only-of-type {\n",
       "        vertical-align: middle;\n",
       "    }\n",
       "\n",
       "    .dataframe tbody tr th {\n",
       "        vertical-align: top;\n",
       "    }\n",
       "\n",
       "    .dataframe thead th {\n",
       "        text-align: right;\n",
       "    }\n",
       "</style>\n",
       "<table border=\"1\" class=\"dataframe\">\n",
       "  <thead>\n",
       "    <tr style=\"text-align: right;\">\n",
       "      <th></th>\n",
       "      <th>Year_month</th>\n",
       "      <th>customer_unique_id</th>\n",
       "    </tr>\n",
       "  </thead>\n",
       "  <tbody>\n",
       "    <tr>\n",
       "      <th>0</th>\n",
       "      <td>2016-09</td>\n",
       "      <td>4</td>\n",
       "    </tr>\n",
       "    <tr>\n",
       "      <th>1</th>\n",
       "      <td>2016-10</td>\n",
       "      <td>324</td>\n",
       "    </tr>\n",
       "  </tbody>\n",
       "</table>\n",
       "</div>"
      ],
      "text/plain": [
       "  Year_month  customer_unique_id\n",
       "0    2016-09                   4\n",
       "1    2016-10                 324"
      ]
     },
     "execution_count": 26,
     "metadata": {},
     "output_type": "execute_result"
    }
   ],
   "source": [
    "cust_monthly_cnt = cust_orders.groupby(\"Year_month\")[['customer_unique_id']].count().reset_index()\n",
    "cust_monthly_cnt.head(2)"
   ]
  },
  {
   "cell_type": "code",
   "execution_count": 24,
   "id": "106183ae-68c6-46f5-9a30-5b8e644b7585",
   "metadata": {},
   "outputs": [
    {
     "data": {
      "text/plain": [
       "np.int64(99441)"
      ]
     },
     "execution_count": 24,
     "metadata": {},
     "output_type": "execute_result"
    }
   ],
   "source": [
    "cust_monthly_cnt.customer_unique_id.sum()"
   ]
  },
  {
   "cell_type": "code",
   "execution_count": 37,
   "id": "31b35c1b-aafc-4960-bf32-0310467db0f4",
   "metadata": {},
   "outputs": [
    {
     "data": {
      "text/html": [
       "<div>\n",
       "<style scoped>\n",
       "    .dataframe tbody tr th:only-of-type {\n",
       "        vertical-align: middle;\n",
       "    }\n",
       "\n",
       "    .dataframe tbody tr th {\n",
       "        vertical-align: top;\n",
       "    }\n",
       "\n",
       "    .dataframe thead th {\n",
       "        text-align: right;\n",
       "    }\n",
       "</style>\n",
       "<table border=\"1\" class=\"dataframe\">\n",
       "  <thead>\n",
       "    <tr style=\"text-align: right;\">\n",
       "      <th></th>\n",
       "      <th>Year_month</th>\n",
       "      <th>customer_unique_id_x</th>\n",
       "      <th>customer_unique_id_y</th>\n",
       "    </tr>\n",
       "  </thead>\n",
       "  <tbody>\n",
       "    <tr>\n",
       "      <th>0</th>\n",
       "      <td>2016-09</td>\n",
       "      <td>4</td>\n",
       "      <td>4</td>\n",
       "    </tr>\n",
       "    <tr>\n",
       "      <th>1</th>\n",
       "      <td>2016-10</td>\n",
       "      <td>315</td>\n",
       "      <td>324</td>\n",
       "    </tr>\n",
       "  </tbody>\n",
       "</table>\n",
       "</div>"
      ],
      "text/plain": [
       "  Year_month  customer_unique_id_x  customer_unique_id_y\n",
       "0    2016-09                     4                     4\n",
       "1    2016-10                   315                   324"
      ]
     },
     "execution_count": 37,
     "metadata": {},
     "output_type": "execute_result"
    }
   ],
   "source": [
    "retented_cust_monthly = pd.merge(new_cust_monthly , cust_monthly_cnt , how= 'left' , on =\"Year_month\")\n",
    "retented_cust_monthly.head(2)"
   ]
  },
  {
   "cell_type": "code",
   "execution_count": 35,
   "id": "ac281dd9-28ba-4d60-b8fd-1c479a54dda7",
   "metadata": {},
   "outputs": [
    {
     "data": {
      "text/html": [
       "<div>\n",
       "<style scoped>\n",
       "    .dataframe tbody tr th:only-of-type {\n",
       "        vertical-align: middle;\n",
       "    }\n",
       "\n",
       "    .dataframe tbody tr th {\n",
       "        vertical-align: top;\n",
       "    }\n",
       "\n",
       "    .dataframe thead th {\n",
       "        text-align: right;\n",
       "    }\n",
       "</style>\n",
       "<table border=\"1\" class=\"dataframe\">\n",
       "  <thead>\n",
       "    <tr style=\"text-align: right;\">\n",
       "      <th></th>\n",
       "      <th>Year_month</th>\n",
       "      <th>customer_unique_id_x</th>\n",
       "      <th>customer_unique_id_y</th>\n",
       "      <th>retented_cust</th>\n",
       "    </tr>\n",
       "  </thead>\n",
       "  <tbody>\n",
       "    <tr>\n",
       "      <th>0</th>\n",
       "      <td>2016-09</td>\n",
       "      <td>4</td>\n",
       "      <td>4</td>\n",
       "      <td>0</td>\n",
       "    </tr>\n",
       "    <tr>\n",
       "      <th>1</th>\n",
       "      <td>2016-10</td>\n",
       "      <td>315</td>\n",
       "      <td>324</td>\n",
       "      <td>9</td>\n",
       "    </tr>\n",
       "  </tbody>\n",
       "</table>\n",
       "</div>"
      ],
      "text/plain": [
       "  Year_month  customer_unique_id_x  customer_unique_id_y  retented_cust\n",
       "0    2016-09                     4                     4              0\n",
       "1    2016-10                   315                   324              9"
      ]
     },
     "execution_count": 35,
     "metadata": {},
     "output_type": "execute_result"
    }
   ],
   "source": [
    "retented_cust_monthly['retented_cust'] = retented_cust_monthly.customer_unique_id_y - retented_cust_monthly.customer_unique_id_x\n",
    "retented_cust_monthly.head(2)"
   ]
  },
  {
   "cell_type": "code",
   "execution_count": 36,
   "id": "1a2ab93f-44d9-4d08-ae77-524ec846bcf6",
   "metadata": {},
   "outputs": [
    {
     "data": {
      "image/png": "[encoded data removed]",
      "text/plain": [
       "<Figure size 1600x600 with 1 Axes>"
      ]
     },
     "metadata": {},
     "output_type": "display_data"
    }
   ],
   "source": [
    "retented_cust_monthly.plot(kind= 'bar', x = 'Year_month' , y = 'retented_cust' , figsize = (16,6))\n",
    "plt.ylabel('count of customers')\n",
    "plt.title('Retention of customers on month on month basis')\n",
    "plt.show()"
   ]
  },
  {
   "cell_type": "markdown",
   "id": "ac8d4e0d-8c10-48f0-aca3-8ec7fda3437c",
   "metadata": {},
   "source": [
    "# How the revenues from existing / new customers on month on month basis"
   ]
  },
  {
   "cell_type": "code",
   "execution_count": 38,
   "id": "58d9cc51-61c2-4555-afa5-7cbdbccee8c2",
   "metadata": {},
   "outputs": [],
   "source": [
    "order_items_month = pd.merge(order_items, orders, how=\"left\", on=\"order_id\")"
   ]
  },
  {
   "cell_type": "code",
   "execution_count": 39,
   "id": "df41826d-fec3-44b5-ab22-1e227aa29d29",
   "metadata": {},
   "outputs": [],
   "source": [
    "order_items_month['net_price'] = order_items_month.price  + order_items_month.freight_value"
   ]
  },
  {
   "cell_type": "code",
   "execution_count": 41,
   "id": "a1c03f0b-511a-4fdf-a7fe-4f9792d7754a",
   "metadata": {},
   "outputs": [
    {
     "data": {
      "text/html": [
       "<div>\n",
       "<style scoped>\n",
       "    .dataframe tbody tr th:only-of-type {\n",
       "        vertical-align: middle;\n",
       "    }\n",
       "\n",
       "    .dataframe tbody tr th {\n",
       "        vertical-align: top;\n",
       "    }\n",
       "\n",
       "    .dataframe thead th {\n",
       "        text-align: right;\n",
       "    }\n",
       "</style>\n",
       "<table border=\"1\" class=\"dataframe\">\n",
       "  <thead>\n",
       "    <tr style=\"text-align: right;\">\n",
       "      <th></th>\n",
       "      <th>net_price</th>\n",
       "    </tr>\n",
       "    <tr>\n",
       "      <th>Year_month</th>\n",
       "      <th></th>\n",
       "    </tr>\n",
       "  </thead>\n",
       "  <tbody>\n",
       "    <tr>\n",
       "      <th>2016-09</th>\n",
       "      <td>354.75</td>\n",
       "    </tr>\n",
       "    <tr>\n",
       "      <th>2016-10</th>\n",
       "      <td>56808.84</td>\n",
       "    </tr>\n",
       "  </tbody>\n",
       "</table>\n",
       "</div>"
      ],
      "text/plain": [
       "            net_price\n",
       "Year_month           \n",
       "2016-09        354.75\n",
       "2016-10      56808.84"
      ]
     },
     "execution_count": 41,
     "metadata": {},
     "output_type": "execute_result"
    }
   ],
   "source": [
    "rev_mouth = order_items_month.groupby(\"Year_month\")[['net_price']].sum()\n",
    "rev_mouth.head(2)"
   ]
  },
  {
   "cell_type": "code",
   "execution_count": 42,
   "id": "090b1ffb-7c22-446f-89af-ae048ee4ee83",
   "metadata": {},
   "outputs": [
    {
     "data": {
      "image/png": "[encoded data removed]",
      "text/plain": [
       "<Figure size 1600x600 with 1 Axes>"
      ]
     },
     "metadata": {},
     "output_type": "display_data"
    }
   ],
   "source": [
    "rev_mouth.plot(kind=\"bar\", figsize=(16, 6))\n",
    "plt.ylabel(\"Total Amount\")\n",
    "plt.title(\"Total Revenue on month on month basis\")\n",
    "plt.show()"
   ]
  },
  {
   "cell_type": "markdown",
   "id": "3399ae57-3f2b-46ca-a7f1-b86d8cd9c11f",
   "metadata": {},
   "source": [
    "#  understand the trends / seasonality of sales quantity by category, location, month, week, day, time, channel, payment methods etc.."
   ]
  },
  {
   "cell_type": "code",
   "execution_count": 43,
   "id": "e9c2a36c-f4f9-4fbb-ac4e-e67269e8ef81",
   "metadata": {},
   "outputs": [
    {
     "data": {
      "text/html": [
       "<div>\n",
       "<style scoped>\n",
       "    .dataframe tbody tr th:only-of-type {\n",
       "        vertical-align: middle;\n",
       "    }\n",
       "\n",
       "    .dataframe tbody tr th {\n",
       "        vertical-align: top;\n",
       "    }\n",
       "\n",
       "    .dataframe thead th {\n",
       "        text-align: right;\n",
       "    }\n",
       "</style>\n",
       "<table border=\"1\" class=\"dataframe\">\n",
       "  <thead>\n",
       "    <tr style=\"text-align: right;\">\n",
       "      <th></th>\n",
       "      <th>order_id</th>\n",
       "      <th>order_item_id</th>\n",
       "      <th>product_id</th>\n",
       "      <th>seller_id</th>\n",
       "      <th>shipping_limit_date</th>\n",
       "      <th>price</th>\n",
       "      <th>freight_value</th>\n",
       "      <th>customer_id</th>\n",
       "      <th>order_status</th>\n",
       "      <th>order_purchase_timestamp</th>\n",
       "      <th>...</th>\n",
       "      <th>net_price</th>\n",
       "      <th>product_category_name</th>\n",
       "      <th>product_name_lenght</th>\n",
       "      <th>product_description_lenght</th>\n",
       "      <th>product_photos_qty</th>\n",
       "      <th>product_weight_g</th>\n",
       "      <th>product_length_cm</th>\n",
       "      <th>product_height_cm</th>\n",
       "      <th>product_width_cm</th>\n",
       "      <th>month</th>\n",
       "    </tr>\n",
       "  </thead>\n",
       "  <tbody>\n",
       "    <tr>\n",
       "      <th>0</th>\n",
       "      <td>00010242fe8c5a6d1ba2dd792cb16214</td>\n",
       "      <td>1</td>\n",
       "      <td>4244733e06e7ecb4970a6e2683c13e61</td>\n",
       "      <td>48436dade18ac8b2bce089ec2a041202</td>\n",
       "      <td>9/19/2017 9:45</td>\n",
       "      <td>58.9</td>\n",
       "      <td>13.29</td>\n",
       "      <td>3ce436f183e68e07877b285a838db11a</td>\n",
       "      <td>delivered</td>\n",
       "      <td>2017-09-13 08:59:00</td>\n",
       "      <td>...</td>\n",
       "      <td>72.19</td>\n",
       "      <td>Cool_Stuff</td>\n",
       "      <td>58.0</td>\n",
       "      <td>598.0</td>\n",
       "      <td>4.0</td>\n",
       "      <td>650.0</td>\n",
       "      <td>28.0</td>\n",
       "      <td>9.0</td>\n",
       "      <td>14.0</td>\n",
       "      <td>Sep</td>\n",
       "    </tr>\n",
       "    <tr>\n",
       "      <th>1</th>\n",
       "      <td>00018f77f2f0320c557190d7a144bdd3</td>\n",
       "      <td>1</td>\n",
       "      <td>e5f2d52b802189ee658865ca93d83a8f</td>\n",
       "      <td>dd7ddc04e1b6c2c614352b383efe2d36</td>\n",
       "      <td>5/3/2017 11:05</td>\n",
       "      <td>239.9</td>\n",
       "      <td>19.93</td>\n",
       "      <td>f6dd3ec061db4e3987629fe6b26e5cce</td>\n",
       "      <td>delivered</td>\n",
       "      <td>2017-04-26 10:53:00</td>\n",
       "      <td>...</td>\n",
       "      <td>259.83</td>\n",
       "      <td>Pet_Shop</td>\n",
       "      <td>56.0</td>\n",
       "      <td>239.0</td>\n",
       "      <td>2.0</td>\n",
       "      <td>30000.0</td>\n",
       "      <td>50.0</td>\n",
       "      <td>30.0</td>\n",
       "      <td>40.0</td>\n",
       "      <td>Apr</td>\n",
       "    </tr>\n",
       "  </tbody>\n",
       "</table>\n",
       "<p>2 rows × 25 columns</p>\n",
       "</div>"
      ],
      "text/plain": [
       "                           order_id  order_item_id  \\\n",
       "0  00010242fe8c5a6d1ba2dd792cb16214              1   \n",
       "1  00018f77f2f0320c557190d7a144bdd3              1   \n",
       "\n",
       "                         product_id                         seller_id  \\\n",
       "0  4244733e06e7ecb4970a6e2683c13e61  48436dade18ac8b2bce089ec2a041202   \n",
       "1  e5f2d52b802189ee658865ca93d83a8f  dd7ddc04e1b6c2c614352b383efe2d36   \n",
       "\n",
       "  shipping_limit_date  price  freight_value                       customer_id  \\\n",
       "0      9/19/2017 9:45   58.9          13.29  3ce436f183e68e07877b285a838db11a   \n",
       "1      5/3/2017 11:05  239.9          19.93  f6dd3ec061db4e3987629fe6b26e5cce   \n",
       "\n",
       "  order_status order_purchase_timestamp  ... net_price product_category_name  \\\n",
       "0    delivered      2017-09-13 08:59:00  ...     72.19            Cool_Stuff   \n",
       "1    delivered      2017-04-26 10:53:00  ...    259.83              Pet_Shop   \n",
       "\n",
       "  product_name_lenght product_description_lenght product_photos_qty  \\\n",
       "0                58.0                      598.0                4.0   \n",
       "1                56.0                      239.0                2.0   \n",
       "\n",
       "   product_weight_g product_length_cm  product_height_cm  product_width_cm  \\\n",
       "0             650.0              28.0                9.0              14.0   \n",
       "1           30000.0              50.0               30.0              40.0   \n",
       "\n",
       "   month  \n",
       "0    Sep  \n",
       "1    Apr  \n",
       "\n",
       "[2 rows x 25 columns]"
      ]
     },
     "execution_count": 43,
     "metadata": {},
     "output_type": "execute_result"
    }
   ],
   "source": [
    "order_items_prod = pd.merge(order_items_month, products, how=\"left\", on=\"product_id\")\n",
    "order_items_prod['month'] = order_items_prod.order_purchase_timestamp.apply(lambda x: pd.Timestamp.strftime(x, format=\"%b\"))\n",
    "order_items_prod.head(2)"
   ]
  },
  {
   "cell_type": "code",
   "execution_count": 47,
   "id": "ba9128b0-8cb0-4d1e-8e6e-37825d4ccda1",
   "metadata": {},
   "outputs": [
    {
     "data": {
      "text/html": [
       "<div>\n",
       "<style scoped>\n",
       "    .dataframe tbody tr th:only-of-type {\n",
       "        vertical-align: middle;\n",
       "    }\n",
       "\n",
       "    .dataframe tbody tr th {\n",
       "        vertical-align: top;\n",
       "    }\n",
       "\n",
       "    .dataframe thead th {\n",
       "        text-align: right;\n",
       "    }\n",
       "</style>\n",
       "<table border=\"1\" class=\"dataframe\">\n",
       "  <thead>\n",
       "    <tr style=\"text-align: right;\">\n",
       "      <th></th>\n",
       "      <th>product_category_name</th>\n",
       "      <th>quantity</th>\n",
       "      <th>sales</th>\n",
       "    </tr>\n",
       "  </thead>\n",
       "  <tbody>\n",
       "    <tr>\n",
       "      <th>0</th>\n",
       "      <td>Agro_Industry_And_Commerce</td>\n",
       "      <td>212</td>\n",
       "      <td>72530.47</td>\n",
       "    </tr>\n",
       "    <tr>\n",
       "      <th>1</th>\n",
       "      <td>Air_Conditioning</td>\n",
       "      <td>297</td>\n",
       "      <td>55024.96</td>\n",
       "    </tr>\n",
       "    <tr>\n",
       "      <th>2</th>\n",
       "      <td>Art</td>\n",
       "      <td>209</td>\n",
       "      <td>24202.64</td>\n",
       "    </tr>\n",
       "    <tr>\n",
       "      <th>3</th>\n",
       "      <td>Arts_And_Craftmanship</td>\n",
       "      <td>24</td>\n",
       "      <td>1814.01</td>\n",
       "    </tr>\n",
       "    <tr>\n",
       "      <th>4</th>\n",
       "      <td>Audio</td>\n",
       "      <td>364</td>\n",
       "      <td>50688.50</td>\n",
       "    </tr>\n",
       "    <tr>\n",
       "      <th>...</th>\n",
       "      <td>...</td>\n",
       "      <td>...</td>\n",
       "      <td>...</td>\n",
       "    </tr>\n",
       "    <tr>\n",
       "      <th>66</th>\n",
       "      <td>Stationery</td>\n",
       "      <td>2517</td>\n",
       "      <td>230943.23</td>\n",
       "    </tr>\n",
       "    <tr>\n",
       "      <th>67</th>\n",
       "      <td>Tablets_Printing_Image</td>\n",
       "      <td>83</td>\n",
       "      <td>7528.41</td>\n",
       "    </tr>\n",
       "    <tr>\n",
       "      <th>68</th>\n",
       "      <td>Telephony</td>\n",
       "      <td>4545</td>\n",
       "      <td>323667.53</td>\n",
       "    </tr>\n",
       "    <tr>\n",
       "      <th>69</th>\n",
       "      <td>Toys</td>\n",
       "      <td>4117</td>\n",
       "      <td>483946.60</td>\n",
       "    </tr>\n",
       "    <tr>\n",
       "      <th>70</th>\n",
       "      <td>Watches_Gifts</td>\n",
       "      <td>5991</td>\n",
       "      <td>1205005.68</td>\n",
       "    </tr>\n",
       "  </tbody>\n",
       "</table>\n",
       "<p>71 rows × 3 columns</p>\n",
       "</div>"
      ],
      "text/plain": [
       "         product_category_name  quantity       sales\n",
       "0   Agro_Industry_And_Commerce       212    72530.47\n",
       "1             Air_Conditioning       297    55024.96\n",
       "2                          Art       209    24202.64\n",
       "3        Arts_And_Craftmanship        24     1814.01\n",
       "4                        Audio       364    50688.50\n",
       "..                         ...       ...         ...\n",
       "66                  Stationery      2517   230943.23\n",
       "67      Tablets_Printing_Image        83     7528.41\n",
       "68                   Telephony      4545   323667.53\n",
       "69                        Toys      4117   483946.60\n",
       "70               Watches_Gifts      5991  1205005.68\n",
       "\n",
       "[71 rows x 3 columns]"
      ]
     },
     "execution_count": 47,
     "metadata": {},
     "output_type": "execute_result"
    }
   ],
   "source": [
    "# Seasonality of sales, qty by category\n",
    "cat_qty_sales = order_items_prod.groupby('product_category_name').agg({'product_id': 'count', 'price': 'sum'}).reset_index().rename(columns={'product_id': 'quantity', 'price': 'sales'})\n",
    "cat_qty_sales"
   ]
  },
  {
   "cell_type": "code",
   "execution_count": 48,
   "id": "e6f81946-5501-46c3-8d1b-632ae62dcfcb",
   "metadata": {},
   "outputs": [
    {
     "data": {
      "text/html": [
       "<div>\n",
       "<style scoped>\n",
       "    .dataframe tbody tr th:only-of-type {\n",
       "        vertical-align: middle;\n",
       "    }\n",
       "\n",
       "    .dataframe tbody tr th {\n",
       "        vertical-align: top;\n",
       "    }\n",
       "\n",
       "    .dataframe thead th {\n",
       "        text-align: right;\n",
       "    }\n",
       "</style>\n",
       "<table border=\"1\" class=\"dataframe\">\n",
       "  <thead>\n",
       "    <tr style=\"text-align: right;\">\n",
       "      <th></th>\n",
       "      <th>month</th>\n",
       "      <th>qauntity</th>\n",
       "      <th>sales</th>\n",
       "    </tr>\n",
       "  </thead>\n",
       "  <tbody>\n",
       "    <tr>\n",
       "      <th>0</th>\n",
       "      <td>Apr</td>\n",
       "      <td>10659</td>\n",
       "      <td>1356574.98</td>\n",
       "    </tr>\n",
       "    <tr>\n",
       "      <th>1</th>\n",
       "      <td>Aug</td>\n",
       "      <td>12158</td>\n",
       "      <td>1428658.01</td>\n",
       "    </tr>\n",
       "    <tr>\n",
       "      <th>2</th>\n",
       "      <td>Dec</td>\n",
       "      <td>6309</td>\n",
       "      <td>743925.07</td>\n",
       "    </tr>\n",
       "    <tr>\n",
       "      <th>3</th>\n",
       "      <td>Feb</td>\n",
       "      <td>9623</td>\n",
       "      <td>1091481.73</td>\n",
       "    </tr>\n",
       "    <tr>\n",
       "      <th>4</th>\n",
       "      <td>Jan</td>\n",
       "      <td>9163</td>\n",
       "      <td>1070343.23</td>\n",
       "    </tr>\n",
       "    <tr>\n",
       "      <th>5</th>\n",
       "      <td>Jul</td>\n",
       "      <td>11611</td>\n",
       "      <td>1393538.70</td>\n",
       "    </tr>\n",
       "    <tr>\n",
       "      <th>6</th>\n",
       "      <td>Jun</td>\n",
       "      <td>10661</td>\n",
       "      <td>1298162.91</td>\n",
       "    </tr>\n",
       "    <tr>\n",
       "      <th>7</th>\n",
       "      <td>Mar</td>\n",
       "      <td>11217</td>\n",
       "      <td>1357557.74</td>\n",
       "    </tr>\n",
       "    <tr>\n",
       "      <th>8</th>\n",
       "      <td>May</td>\n",
       "      <td>12061</td>\n",
       "      <td>1502588.82</td>\n",
       "    </tr>\n",
       "    <tr>\n",
       "      <th>9</th>\n",
       "      <td>Nov</td>\n",
       "      <td>8665</td>\n",
       "      <td>1010271.37</td>\n",
       "    </tr>\n",
       "    <tr>\n",
       "      <th>10</th>\n",
       "      <td>Oct</td>\n",
       "      <td>5685</td>\n",
       "      <td>713727.09</td>\n",
       "    </tr>\n",
       "    <tr>\n",
       "      <th>11</th>\n",
       "      <td>Sep</td>\n",
       "      <td>4838</td>\n",
       "      <td>624814.05</td>\n",
       "    </tr>\n",
       "  </tbody>\n",
       "</table>\n",
       "</div>"
      ],
      "text/plain": [
       "   month  qauntity       sales\n",
       "0    Apr     10659  1356574.98\n",
       "1    Aug     12158  1428658.01\n",
       "2    Dec      6309   743925.07\n",
       "3    Feb      9623  1091481.73\n",
       "4    Jan      9163  1070343.23\n",
       "5    Jul     11611  1393538.70\n",
       "6    Jun     10661  1298162.91\n",
       "7    Mar     11217  1357557.74\n",
       "8    May     12061  1502588.82\n",
       "9    Nov      8665  1010271.37\n",
       "10   Oct      5685   713727.09\n",
       "11   Sep      4838   624814.05"
      ]
     },
     "execution_count": 48,
     "metadata": {},
     "output_type": "execute_result"
    }
   ],
   "source": [
    "# seasonality pf sales, quantity by month\n",
    "month_qty_sales = order_items_prod.groupby(\"month\").agg({'product_id': 'count', 'price': 'sum'}).reset_index().rename(columns={'product_id': 'qauntity', 'price':'sales'})\n",
    "month_qty_sales"
   ]
  },
  {
   "cell_type": "markdown",
   "id": "95b6825b-de56-4948-bfc2-a0f4a6fe4128",
   "metadata": {},
   "source": [
    "# popular product by seller state and category"
   ]
  },
  {
   "cell_type": "code",
   "execution_count": 49,
   "id": "d72aabbb-e0fb-43a8-87da-ea9d26130505",
   "metadata": {},
   "outputs": [
    {
     "data": {
      "text/html": [
       "<div>\n",
       "<style scoped>\n",
       "    .dataframe tbody tr th:only-of-type {\n",
       "        vertical-align: middle;\n",
       "    }\n",
       "\n",
       "    .dataframe tbody tr th {\n",
       "        vertical-align: top;\n",
       "    }\n",
       "\n",
       "    .dataframe thead th {\n",
       "        text-align: right;\n",
       "    }\n",
       "</style>\n",
       "<table border=\"1\" class=\"dataframe\">\n",
       "  <thead>\n",
       "    <tr style=\"text-align: right;\">\n",
       "      <th></th>\n",
       "      <th>seller_id</th>\n",
       "      <th>product_id</th>\n",
       "      <th>count</th>\n",
       "    </tr>\n",
       "  </thead>\n",
       "  <tbody>\n",
       "    <tr>\n",
       "      <th>0</th>\n",
       "      <td>0015a82c2db000af6aaaf3ae2ecb0532</td>\n",
       "      <td>a2ff5a97bf95719e38ea2e3b4105bce8</td>\n",
       "      <td>3</td>\n",
       "    </tr>\n",
       "    <tr>\n",
       "      <th>1</th>\n",
       "      <td>001cca7ae9ae17fb1caed9dfb1094831</td>\n",
       "      <td>08574b074924071f4e201e151b152b4e</td>\n",
       "      <td>113</td>\n",
       "    </tr>\n",
       "    <tr>\n",
       "      <th>12</th>\n",
       "      <td>001e6ad469a905060d959994f1b41e4f</td>\n",
       "      <td>093cd981b714bcdff182b427d87fc8fc</td>\n",
       "      <td>1</td>\n",
       "    </tr>\n",
       "    <tr>\n",
       "      <th>14</th>\n",
       "      <td>002100f778ceb8431b7a1020ff7ab48f</td>\n",
       "      <td>158102fe543dbaeb84d87811bfe06d0d</td>\n",
       "      <td>17</td>\n",
       "    </tr>\n",
       "    <tr>\n",
       "      <th>37</th>\n",
       "      <td>003554e2dce176b5555353e4f3555ac8</td>\n",
       "      <td>67f36b3689147d882d2b298fd0715d80</td>\n",
       "      <td>1</td>\n",
       "    </tr>\n",
       "    <tr>\n",
       "      <th>...</th>\n",
       "      <td>...</td>\n",
       "      <td>...</td>\n",
       "      <td>...</td>\n",
       "    </tr>\n",
       "    <tr>\n",
       "      <th>34388</th>\n",
       "      <td>ffcfefa19b08742c5d315f2791395ee5</td>\n",
       "      <td>cea898bfbca0b5b0e7b36cecd350709e</td>\n",
       "      <td>1</td>\n",
       "    </tr>\n",
       "    <tr>\n",
       "      <th>34397</th>\n",
       "      <td>ffdd9f82b9a447f6f8d4b91554cc7dd3</td>\n",
       "      <td>ada800a927673ac73cdfbbd2c832331b</td>\n",
       "      <td>5</td>\n",
       "    </tr>\n",
       "    <tr>\n",
       "      <th>34402</th>\n",
       "      <td>ffeee66ac5d5a62fe688b9d26f83f534</td>\n",
       "      <td>1347d4320dcd0acd750e37bb3d94a918</td>\n",
       "      <td>10</td>\n",
       "    </tr>\n",
       "    <tr>\n",
       "      <th>34430</th>\n",
       "      <td>fffd5413c0700ac820c7069d66d98c89</td>\n",
       "      <td>ebb12274522d82caa7dca657873b2ad7</td>\n",
       "      <td>6</td>\n",
       "    </tr>\n",
       "    <tr>\n",
       "      <th>34444</th>\n",
       "      <td>ffff564a4f9085cd26170f4732393726</td>\n",
       "      <td>dbd024d4182504993ad1e3cd2ee9d9e9</td>\n",
       "      <td>2</td>\n",
       "    </tr>\n",
       "  </tbody>\n",
       "</table>\n",
       "<p>3095 rows × 3 columns</p>\n",
       "</div>"
      ],
      "text/plain": [
       "                              seller_id                        product_id  \\\n",
       "0      0015a82c2db000af6aaaf3ae2ecb0532  a2ff5a97bf95719e38ea2e3b4105bce8   \n",
       "1      001cca7ae9ae17fb1caed9dfb1094831  08574b074924071f4e201e151b152b4e   \n",
       "12     001e6ad469a905060d959994f1b41e4f  093cd981b714bcdff182b427d87fc8fc   \n",
       "14     002100f778ceb8431b7a1020ff7ab48f  158102fe543dbaeb84d87811bfe06d0d   \n",
       "37     003554e2dce176b5555353e4f3555ac8  67f36b3689147d882d2b298fd0715d80   \n",
       "...                                 ...                               ...   \n",
       "34388  ffcfefa19b08742c5d315f2791395ee5  cea898bfbca0b5b0e7b36cecd350709e   \n",
       "34397  ffdd9f82b9a447f6f8d4b91554cc7dd3  ada800a927673ac73cdfbbd2c832331b   \n",
       "34402  ffeee66ac5d5a62fe688b9d26f83f534  1347d4320dcd0acd750e37bb3d94a918   \n",
       "34430  fffd5413c0700ac820c7069d66d98c89  ebb12274522d82caa7dca657873b2ad7   \n",
       "34444  ffff564a4f9085cd26170f4732393726  dbd024d4182504993ad1e3cd2ee9d9e9   \n",
       "\n",
       "       count  \n",
       "0          3  \n",
       "1        113  \n",
       "12         1  \n",
       "14        17  \n",
       "37         1  \n",
       "...      ...  \n",
       "34388      1  \n",
       "34397      5  \n",
       "34402     10  \n",
       "34430      6  \n",
       "34444      2  \n",
       "\n",
       "[3095 rows x 3 columns]"
      ]
     },
     "execution_count": 49,
     "metadata": {},
     "output_type": "execute_result"
    }
   ],
   "source": [
    "prod_seller = order_items_prod.groupby([\"seller_id\", \"product_id\"]).agg({'product_id': 'count'}).rename(columns={'product_id':'count'}).reset_index()\n",
    "prod_seller = prod_seller.sort_values(by=['seller_id', 'count']).drop_duplicates(subset=\"seller_id\", keep='last')\n",
    "prod_seller"
   ]
  },
  {
   "cell_type": "code",
   "execution_count": null,
   "id": "a13c78a8-eab5-4c5f-bcd1-f2fab8040248",
   "metadata": {},
   "outputs": [],
   "source": []
  }
 ],
 "metadata": {
  "kernelspec": {
   "display_name": "Python 3 (ipykernel)",
   "language": "python",
   "name": "python3"
  },
  "language_info": {
   "codemirror_mode": {
    "name": "ipython",
    "version": 3
   },
   "file_extension": ".py",
   "mimetype": "text/x-python",
   "name": "python",
   "nbconvert_exporter": "python",
   "pygments_lexer": "ipython3",
   "version": "3.13.5"
  }
 },
 "nbformat": 4,
 "nbformat_minor": 5
}
