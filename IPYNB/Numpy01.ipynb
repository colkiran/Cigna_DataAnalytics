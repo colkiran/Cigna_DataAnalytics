{
 "cells": [
  {
   "cell_type": "markdown",
   "id": "462cd593-e5fc-4fe4-878a-eef136cfb646",
   "metadata": {},
   "source": [
    "# Data types"
   ]
  },
  {
   "cell_type": "code",
   "execution_count": 2,
   "id": "e82e7388-34cc-4ab6-ae18-b8cf05a562db",
   "metadata": {},
   "outputs": [],
   "source": [
    "import numpy as np"
   ]
  },
  {
   "cell_type": "code",
   "execution_count": 3,
   "id": "eb87fc3a-c2cb-4072-a11a-48dcb6c757cb",
   "metadata": {},
   "outputs": [
    {
     "name": "stdout",
     "output_type": "stream",
     "text": [
      "[1 2 3 4 5]\n",
      "int64\n"
     ]
    }
   ],
   "source": [
    "arr = np.array([1, 2, 3, 4 ,5])\n",
    "print(arr)\n",
    "print(arr.dtype)"
   ]
  },
  {
   "cell_type": "code",
   "execution_count": 5,
   "id": "a93f9186-d570-455b-ab85-ba5c081eb855",
   "metadata": {},
   "outputs": [
    {
     "name": "stdout",
     "output_type": "stream",
     "text": [
      "['apple' 'orange' 'grapes']\n",
      "<class 'numpy.ndarray'>\n",
      "<U6\n"
     ]
    }
   ],
   "source": [
    "fruits = np.array(['apple', 'orange', 'grapes'])\n",
    "print(fruits)\n",
    "print(type(fruits))\n",
    "print(fruits.dtype)"
   ]
  },
  {
   "cell_type": "code",
   "execution_count": 6,
   "id": "d13076b2-3435-4cbb-826d-a41ea0443119",
   "metadata": {},
   "outputs": [
    {
     "name": "stdout",
     "output_type": "stream",
     "text": [
      "[b'1' b'2' b'3' b'4' b'5']\n",
      "|S1\n"
     ]
    }
   ],
   "source": [
    "arr = np.array([1, 2, 3, 4, 5], dtype=\"S\")\n",
    "print(arr)\n",
    "print(arr.dtype)"
   ]
  },
  {
   "cell_type": "markdown",
   "id": "8f7e1b47-5aa0-4981-802b-0980a7a3b727",
   "metadata": {},
   "source": [
    "### | byte order flag, S - string data type and 1 is the size"
   ]
  },
  {
   "cell_type": "code",
   "execution_count": 7,
   "id": "edc24120-03cf-4b6e-a25e-454eb11abad3",
   "metadata": {},
   "outputs": [
    {
     "name": "stdout",
     "output_type": "stream",
     "text": [
      "[1 2 3 4 5]\n",
      "int32\n"
     ]
    }
   ],
   "source": [
    "arr = np.array([1, 2, 3, 4, 5], dtype = \"i4\")\n",
    "print(arr)\n",
    "print(arr.dtype)"
   ]
  },
  {
   "cell_type": "code",
   "execution_count": 10,
   "id": "de515a18-8292-4221-a8e8-ecda520a11c8",
   "metadata": {},
   "outputs": [
    {
     "ename": "ValueError",
     "evalue": "invalid literal for int() with base 10: 'a'",
     "output_type": "error",
     "traceback": [
      "\u001b[1;31m---------------------------------------------------------------------------\u001b[0m",
      "\u001b[1;31mValueError\u001b[0m                                Traceback (most recent call last)",
      "Cell \u001b[1;32mIn[10], line 1\u001b[0m\n\u001b[1;32m----> 1\u001b[0m arr \u001b[38;5;241m=\u001b[39m np\u001b[38;5;241m.\u001b[39marray([\u001b[38;5;124m'\u001b[39m\u001b[38;5;124ma\u001b[39m\u001b[38;5;124m'\u001b[39m, \u001b[38;5;124m'\u001b[39m\u001b[38;5;124m2\u001b[39m\u001b[38;5;124m'\u001b[39m, \u001b[38;5;124m'\u001b[39m\u001b[38;5;124m3\u001b[39m\u001b[38;5;124m'\u001b[39m, \u001b[38;5;124m'\u001b[39m\u001b[38;5;124mb\u001b[39m\u001b[38;5;124m'\u001b[39m, \u001b[38;5;124m'\u001b[39m\u001b[38;5;124m5\u001b[39m\u001b[38;5;124m'\u001b[39m], dtype\u001b[38;5;241m=\u001b[39m\u001b[38;5;124m'\u001b[39m\u001b[38;5;124mi\u001b[39m\u001b[38;5;124m'\u001b[39m)\n\u001b[0;32m      2\u001b[0m \u001b[38;5;28mprint\u001b[39m(arr)\n\u001b[0;32m      3\u001b[0m \u001b[38;5;28mprint\u001b[39m(arr\u001b[38;5;241m.\u001b[39mdtype)\n",
      "\u001b[1;31mValueError\u001b[0m: invalid literal for int() with base 10: 'a'"
     ]
    }
   ],
   "source": [
    "arr = np.array(['a', '2', '3', 'b', '5'], dtype='i')\n",
    "print(arr)\n",
    "print(arr.dtype)"
   ]
  },
  {
   "cell_type": "code",
   "execution_count": 15,
   "id": "176fd649-1b3e-4be4-b56e-393586394955",
   "metadata": {},
   "outputs": [
    {
     "name": "stdout",
     "output_type": "stream",
     "text": [
      "[1.5 3.4 6.8]\n",
      "------------------------------------------------------------\n",
      "[1 3 6]\n",
      "int32\n",
      "------------------------------------------------------------\n",
      "[1 3 6]\n",
      "int64\n"
     ]
    }
   ],
   "source": [
    "arr = np.array([1.5, 3.4, 6.8])\n",
    "print(arr)\n",
    "\n",
    "arr1 = arr.astype(\"i\")\n",
    "print(\"-\" * 60)\n",
    "print(arr1)\n",
    "print(arr1.dtype)\n",
    "\n",
    "print(\"-\" * 60)\n",
    "arr2 = arr.astype(int)\n",
    "print(arr2)\n",
    "print(arr2.dtype)"
   ]
  },
  {
   "cell_type": "code",
   "execution_count": 16,
   "id": "86f6babe-48b9-42de-9ea2-6e4bf87ec39f",
   "metadata": {},
   "outputs": [
    {
     "name": "stdout",
     "output_type": "stream",
     "text": [
      "[ 1.   0.  -1.   0.5  0. ]\n",
      "------------------------------------------------------------\n",
      "[ True False  True  True False]\n"
     ]
    }
   ],
   "source": [
    "arr = np.array([1, 0, -1, 0.5, 0])\n",
    "print(arr)\n",
    "\n",
    "print(\"-\" * 60)\n",
    "arr1 = arr.astype(bool)\n",
    "print(arr1)"
   ]
  },
  {
   "cell_type": "markdown",
   "id": "a886e215-a803-499c-bcf0-f36c97a4bd16",
   "metadata": {},
   "source": [
    "copy VS View"
   ]
  },
  {
   "cell_type": "code",
   "execution_count": 19,
   "id": "d8897710-8d91-444b-bd94-298f222cd274",
   "metadata": {},
   "outputs": [
    {
     "name": "stdout",
     "output_type": "stream",
     "text": [
      "arr :[1 2 3 4 5]\n",
      "arr1 :[1 2 3 4 5]\n",
      "------------------------------------------------------------\n",
      "------------------------------------------------------------\n",
      "arr1 :[  1   2   3 400   5]\n",
      "arr  :[1 2 3 4 5]\n"
     ]
    }
   ],
   "source": [
    "arr = np.array([1, 2, 3, 4, 5])\n",
    "print(f\"arr :{arr}\")\n",
    "\n",
    "arr1 = arr.copy()\n",
    "print(f\"arr1 :{arr1}\")\n",
    "\n",
    "print(\"-\" * 60)\n",
    "arr1[3] = 400\n",
    "\n",
    "print(\"-\" * 60)\n",
    "print(f\"arr1 :{arr1}\")\n",
    "print(f\"arr  :{arr}\")\n"
   ]
  },
  {
   "cell_type": "code",
   "execution_count": 20,
   "id": "56421652-9535-4557-838a-72096e5bdb9b",
   "metadata": {},
   "outputs": [
    {
     "name": "stdout",
     "output_type": "stream",
     "text": [
      "arr :[10 20 30 40 50]\n",
      "------------------------------------------------------------\n",
      "------------------------------------------------------------\n",
      "arr :[ 10  20 333  40  50]\n",
      "arr1 :[ 10  20 333  40  50]\n"
     ]
    }
   ],
   "source": [
    "arr = np.array([10, 20, 30, 40, 50])\n",
    "print(f\"arr :{arr}\")\n",
    "\n",
    "print(\"-\" * 60)\n",
    "arr1 = arr.view()\n",
    "\n",
    "arr1[2] = 333\n",
    "print(\"-\" * 60)\n",
    "print(f\"arr :{arr}\")\n",
    "print(f\"arr1 :{arr1}\")"
   ]
  },
  {
   "cell_type": "markdown",
   "id": "ac8daa03-0710-4a6e-9219-0bb455253430",
   "metadata": {},
   "source": [
    "# Array Shape"
   ]
  },
  {
   "cell_type": "code",
   "execution_count": 23,
   "id": "2b5e4df6-53ec-41aa-8937-d55584bf41a1",
   "metadata": {},
   "outputs": [
    {
     "name": "stdout",
     "output_type": "stream",
     "text": [
      "arr :\n",
      "[[1 2 3 4]\n",
      " [5 6 7 8]]\n",
      "arr.shape - (2, 4)\n"
     ]
    }
   ],
   "source": [
    "arr = np.array([[1, 2, 3, 4] , [5, 6, 7, 8]])\n",
    "print(f\"arr :\\n{arr}\")\n",
    "\n",
    "print(f\"arr.shape - {arr.shape}\")"
   ]
  },
  {
   "cell_type": "code",
   "execution_count": 24,
   "id": "e8ec086f-6997-47a8-a66d-dbc7d3cac776",
   "metadata": {},
   "outputs": [
    {
     "name": "stdout",
     "output_type": "stream",
     "text": [
      "[[[[[1 2 3 4 5]]]]]\n",
      "shape of the array :(1, 1, 1, 1, 5)\n"
     ]
    }
   ],
   "source": [
    "arr = np.array([1, 2, 3, 4, 5], ndmin=5)\n",
    "print(arr)\n",
    "print(f\"shape of the array :{arr.shape}\")"
   ]
  },
  {
   "cell_type": "markdown",
   "id": "9c1b6e88-6403-4cce-9fbb-e413afdf83ea",
   "metadata": {},
   "source": [
    "## Reshaping Arrays"
   ]
  },
  {
   "cell_type": "code",
   "execution_count": 32,
   "id": "130d518b-d805-4418-a512-2c0a537aa053",
   "metadata": {},
   "outputs": [
    {
     "name": "stdout",
     "output_type": "stream",
     "text": [
      "[ 1  2  3  4  5  6  7  8  9 10 11 12]\n",
      "(12,)\n",
      "------------------------------------------------------------\n",
      "[[ 1  2  3  4  5  6]\n",
      " [ 7  8  9 10 11 12]]\n",
      "(2, 6)\n",
      "------------------------------------------------------------\n",
      "[[ 1  2  3]\n",
      " [ 4  5  6]\n",
      " [ 7  8  9]\n",
      " [10 11 12]]\n",
      "(4, 3)\n",
      "------------------------------------------------------------\n",
      "[[[ 1  2]\n",
      "  [ 3  4]\n",
      "  [ 5  6]]\n",
      "\n",
      " [[ 7  8]\n",
      "  [ 9 10]\n",
      "  [11 12]]]\n",
      "(2, 3, 2)\n"
     ]
    }
   ],
   "source": [
    "arr =np.array([1, 2, 3, 4, 5, 6 ,7, 8, 9, 10, 11, 12])\n",
    "print(arr)\n",
    "print(arr.shape)\n",
    "\n",
    "print(\"-\" * 60)\n",
    "arr1 = arr.reshape(2, 6)\n",
    "print(arr1)\n",
    "print(arr1.shape)\n",
    "\n",
    "print(\"-\" * 60)\n",
    "arr2 = arr.reshape(4, 3)\n",
    "print(arr2)\n",
    "print(arr2.shape)\n",
    "\n",
    "print(\"-\" * 60)\n",
    "arr3 = arr.reshape(2, 3, 2)\n",
    "print(arr3)\n",
    "print(arr3.shape)"
   ]
  },
  {
   "cell_type": "code",
   "execution_count": 33,
   "id": "f826195f-5f7a-4778-a8b4-f5389cbd99bc",
   "metadata": {},
   "outputs": [
    {
     "name": "stdout",
     "output_type": "stream",
     "text": [
      "[1 2 3 4 5 6 7 8]\n"
     ]
    },
    {
     "ename": "ValueError",
     "evalue": "cannot reshape array of size 8 into shape (3,3)",
     "output_type": "error",
     "traceback": [
      "\u001b[1;31m---------------------------------------------------------------------------\u001b[0m",
      "\u001b[1;31mValueError\u001b[0m                                Traceback (most recent call last)",
      "Cell \u001b[1;32mIn[33], line 4\u001b[0m\n\u001b[0;32m      1\u001b[0m arr \u001b[38;5;241m=\u001b[39m np\u001b[38;5;241m.\u001b[39marray([\u001b[38;5;241m1\u001b[39m, \u001b[38;5;241m2\u001b[39m, \u001b[38;5;241m3\u001b[39m, \u001b[38;5;241m4\u001b[39m, \u001b[38;5;241m5\u001b[39m, \u001b[38;5;241m6\u001b[39m, \u001b[38;5;241m7\u001b[39m, \u001b[38;5;241m8\u001b[39m])\n\u001b[0;32m      2\u001b[0m \u001b[38;5;28mprint\u001b[39m(arr)\n\u001b[1;32m----> 4\u001b[0m arr1 \u001b[38;5;241m=\u001b[39m arr\u001b[38;5;241m.\u001b[39mreshape(\u001b[38;5;241m3\u001b[39m, \u001b[38;5;241m3\u001b[39m)\n\u001b[0;32m      5\u001b[0m \u001b[38;5;28mprint\u001b[39m(arr1)\n",
      "\u001b[1;31mValueError\u001b[0m: cannot reshape array of size 8 into shape (3,3)"
     ]
    }
   ],
   "source": [
    "arr = np.array([1, 2, 3, 4, 5, 6, 7, 8])\n",
    "print(arr)\n",
    "\n",
    "arr1 = arr.reshape(3, 3)\n",
    "print(arr1)"
   ]
  },
  {
   "cell_type": "code",
   "execution_count": 36,
   "id": "04d0edb7-b104-4d86-8c73-5e9e32a88b9b",
   "metadata": {},
   "outputs": [
    {
     "name": "stdout",
     "output_type": "stream",
     "text": [
      "arr :[1 2 3 4 5 6 7 8]\n",
      "[1 2 3 4 5 6 7 8]\n",
      "arr :[1 2 3 4 5 6 7 8]\n"
     ]
    }
   ],
   "source": [
    "# returns the copy of view - so no modification\n",
    "arr = np.array([1, 2, 3, 4, 5, 6, 7, 8])\n",
    "print(f\"arr :{arr}\")\n",
    "\n",
    "arr1 = arr.reshape(2, 4).base\n",
    "\n",
    "print(arr1)\n",
    "\n",
    "print(f\"arr :{arr}\")"
   ]
  },
  {
   "cell_type": "code",
   "execution_count": 37,
   "id": "44a2cc9b-a626-4ebd-b6fe-89e1e51666dd",
   "metadata": {},
   "outputs": [
    {
     "name": "stdout",
     "output_type": "stream",
     "text": [
      "[1 2 3 4 5 6 7 8]\n",
      "[[[1 2]\n",
      "  [3 4]]\n",
      "\n",
      " [[5 6]\n",
      "  [7 8]]]\n"
     ]
    }
   ],
   "source": [
    "arr = np.array([1, 2, 3, 4, 5, 6, 7, 8])\n",
    "print(arr)\n",
    "\n",
    "arr1 = arr.reshape(2, 2, -1)\n",
    "print(arr1)"
   ]
  },
  {
   "cell_type": "code",
   "execution_count": 38,
   "id": "88200f24-9790-4fb4-80ee-976cc0090fb1",
   "metadata": {},
   "outputs": [
    {
     "name": "stdout",
     "output_type": "stream",
     "text": [
      "arr :[[1 2 3 4]\n",
      " [5 6 7 8]]\n",
      "[1 2 3 4 5 6 7 8]\n"
     ]
    }
   ],
   "source": [
    "arr = np.array([[1, 2, 3, 4], [5, 6, 7, 8]])\n",
    "print(f\"arr :{arr}\")\n",
    "\n",
    "arr1 = arr.flatten()\n",
    "\n",
    "print(arr1)"
   ]
  },
  {
   "cell_type": "code",
   "execution_count": 39,
   "id": "584bcfb5-7baf-4611-b96f-a843ce299a8f",
   "metadata": {},
   "outputs": [
    {
     "name": "stdout",
     "output_type": "stream",
     "text": [
      "arr :[[1 2 3 4]\n",
      " [5 6 7 8]]\n",
      "[1 2 3 4 5 6 7 8]\n"
     ]
    }
   ],
   "source": [
    "arr = np.array([[1, 2, 3, 4] ,[5, 6, 7, 8]])\n",
    "print(f\"arr :{arr}\")\n",
    "\n",
    "arr1 = arr.reshape(-1)\n",
    "\n",
    "print(arr1)"
   ]
  },
  {
   "cell_type": "code",
   "execution_count": null,
   "id": "95d8a932-dc49-482a-92b4-f1855c099e4a",
   "metadata": {},
   "outputs": [],
   "source": []
  }
 ],
 "metadata": {
  "kernelspec": {
   "display_name": "Python 3 (ipykernel)",
   "language": "python",
   "name": "python3"
  },
  "language_info": {
   "codemirror_mode": {
    "name": "ipython",
    "version": 3
   },
   "file_extension": ".py",
   "mimetype": "text/x-python",
   "name": "python",
   "nbconvert_exporter": "python",
   "pygments_lexer": "ipython3",
   "version": "3.13.5"
  }
 },
 "nbformat": 4,
 "nbformat_minor": 5
}
