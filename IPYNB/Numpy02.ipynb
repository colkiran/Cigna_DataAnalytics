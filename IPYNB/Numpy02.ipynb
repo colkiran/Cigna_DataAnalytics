{
 "cells": [
  {
   "cell_type": "markdown",
   "id": "68c12232-3a11-4fcb-bd04-db1ea7345c63",
   "metadata": {},
   "source": [
    "## iterating Arrays"
   ]
  },
  {
   "cell_type": "code",
   "execution_count": 2,
   "id": "8ad6c9e5-e9e8-4120-9b1c-d54ce9fee410",
   "metadata": {},
   "outputs": [
    {
     "name": "stdout",
     "output_type": "stream",
     "text": [
      "arr :[1 2 3 4 5]\n",
      "1 2 3 4 5 "
     ]
    }
   ],
   "source": [
    "import numpy as np\n",
    "\n",
    "arr = np.array([1, 2, 3, 4, 5])\n",
    "print(f\"arr :{arr}\")\n",
    "\n",
    "for x in arr:\n",
    "    print(x, end=\" \")"
   ]
  },
  {
   "cell_type": "code",
   "execution_count": 6,
   "id": "c55a6278-f8bc-4747-b617-8f1d78dbf096",
   "metadata": {},
   "outputs": [
    {
     "name": "stdout",
     "output_type": "stream",
     "text": [
      "arr :[[1 2 3 4]\n",
      " [5 6 7 8]]\n",
      "[1 2 3 4]\n",
      "[5 6 7 8]\n",
      "------------------------------------------------------------\n",
      "[array([1, 2, 3, 4]), array([5, 6, 7, 8])]\n",
      "[np.int64(1), np.int64(2), np.int64(3), np.int64(4), np.int64(5), np.int64(6), np.int64(7), np.int64(8)]\n"
     ]
    }
   ],
   "source": [
    "arr = np.array([[1, 2, 3, 4], [5, 6, 7, 8]])\n",
    "print(f\"arr :{arr}\")\n",
    "\n",
    "for x in arr:\n",
    "    print(x)\n",
    "\n",
    "print(\"-\" * 60)\n",
    "# list comprehension\n",
    "print([x for x in arr])\n",
    "\n",
    "# print all the elements using list comprehension\n",
    "print([i for x in arr for i in x])"
   ]
  },
  {
   "cell_type": "code",
   "execution_count": 12,
   "id": "865be09d-7dfd-4f4b-bf8d-187d12cbbee3",
   "metadata": {},
   "outputs": [
    {
     "name": "stdout",
     "output_type": "stream",
     "text": [
      "arr :\n",
      "[[[1 2 3]\n",
      "  [4 5 6]\n",
      "  [7 8 9]]]\n",
      "[[1 2 3]\n",
      " [4 5 6]\n",
      " [7 8 9]]\n",
      "------------------------------------------------------------\n",
      "1\n",
      "2\n",
      "3\n",
      "4\n",
      "5\n",
      "6\n",
      "7\n",
      "8\n",
      "9\n",
      "------------------------------------------------------------\n",
      "arr1 :\n",
      "[[[1 2]\n",
      "  [3 4]\n",
      "  [5 6]\n",
      "  [7 8]]]\n",
      "1\n",
      "2\n",
      "3\n",
      "4\n",
      "5\n",
      "6\n",
      "7\n",
      "8\n",
      "9\n"
     ]
    }
   ],
   "source": [
    "arr = np.array([[[1, 2, 3], [4, 5, 6], [7, 8, 9]]])\n",
    "print(f\"arr :\\n{arr}\")\n",
    "\n",
    "for i in arr:\n",
    "    print(i)\n",
    "\n",
    "print(\"-\" * 60)\n",
    "for x in np.nditer(arr):\n",
    "    print(x)\n",
    "\n",
    "print(\"-\" * 60)\n",
    "\n",
    "arr1 = np.array([[[1, 2], [3, 4], [5, 6], [7,8 ]]])\n",
    "print(f\"arr1 :\\n{arr1}\")\n",
    "\n",
    "for x in np.nditer(arr):\n",
    "    print(x)    "
   ]
  },
  {
   "cell_type": "raw",
   "id": "b13b6424-c970-440e-b034-906df6882e40",
   "metadata": {},
   "source": [
    "iterating Array with different data types"
   ]
  },
  {
   "cell_type": "code",
   "execution_count": 13,
   "id": "99c68714-69b2-4ddf-ae22-70984e7acda4",
   "metadata": {},
   "outputs": [
    {
     "name": "stdout",
     "output_type": "stream",
     "text": [
      "arr :[1 2 3 4 5]\n",
      "np.bytes_(b'1')\n",
      "np.bytes_(b'2')\n",
      "np.bytes_(b'3')\n",
      "np.bytes_(b'4')\n",
      "np.bytes_(b'5')\n"
     ]
    }
   ],
   "source": [
    "arr = np.array([1, 2, 3, 4, 5])\n",
    "print(f\"arr :{arr}\")\n",
    "\n",
    "for x in np.nditer(arr, flags = ['buffered'], op_dtypes=['S']):\n",
    "    print(x)"
   ]
  },
  {
   "cell_type": "markdown",
   "id": "0212ceea-a68c-41c7-9668-05a092eb0dab",
   "metadata": {},
   "source": [
    "Iterating with different step size"
   ]
  },
  {
   "cell_type": "code",
   "execution_count": 14,
   "id": "8330061a-ac67-4283-8ca3-682b55f86f1b",
   "metadata": {},
   "outputs": [
    {
     "name": "stdout",
     "output_type": "stream",
     "text": [
      "arr :\n",
      "[[1 2 3 4]\n",
      " [5 6 7 8]]\n",
      "------------------------------------------------------------\n",
      "1\n",
      "3\n",
      "5\n",
      "7\n"
     ]
    }
   ],
   "source": [
    "arr = np.array([[1, 2, 3, 4], [5, 6, 7, 8]])\n",
    "print(f\"arr :\\n{arr}\")\n",
    "\n",
    "print(\"-\" * 60)\n",
    "for x in np.nditer(arr[:, ::2]):\n",
    "    print(x)"
   ]
  },
  {
   "cell_type": "markdown",
   "id": "ba815485-352f-4fc8-90a4-dfc915855ea1",
   "metadata": {},
   "source": [
    "Enumerated iterations"
   ]
  },
  {
   "cell_type": "code",
   "execution_count": 16,
   "id": "d042cf39-8db7-4caa-985f-dc1ed4100cee",
   "metadata": {},
   "outputs": [
    {
     "name": "stdout",
     "output_type": "stream",
     "text": [
      "arr :\n",
      "[1 2 3 4 5]\n",
      "(0,) 1\n",
      "(1,) 2\n",
      "(2,) 3\n",
      "(3,) 4\n",
      "(4,) 5\n"
     ]
    }
   ],
   "source": [
    "arr = np.array([1, 2, 3, 4, 5])\n",
    "print(f\"arr :\\n{arr}\")\n",
    "\n",
    "for idx, x in np.ndenumerate(arr):\n",
    "    print(idx, x)"
   ]
  },
  {
   "cell_type": "code",
   "execution_count": 18,
   "id": "ad11d35d-7cce-465e-865e-7265cb9c0527",
   "metadata": {},
   "outputs": [
    {
     "name": "stdout",
     "output_type": "stream",
     "text": [
      "arr :\n",
      "[[1 2 3 4]\n",
      " [5 6 7 8]]\n",
      "------------------------------------------------------------\n",
      "(0, 0) 1\n",
      "(0, 1) 2\n",
      "(0, 2) 3\n",
      "(0, 3) 4\n",
      "(1, 0) 5\n",
      "(1, 1) 6\n",
      "(1, 2) 7\n",
      "(1, 3) 8\n"
     ]
    }
   ],
   "source": [
    "arr = np.array([[1, 2, 3, 4], [5, 6, 7, 8]])\n",
    "print(f\"arr :\\n{arr}\")\n",
    "\n",
    "print(\"-\" * 60)\n",
    "for idx, x in np.ndenumerate(arr):\n",
    "    print(idx, x)"
   ]
  },
  {
   "cell_type": "markdown",
   "id": "245eb0a1-620f-4b5b-921a-ad0702e02916",
   "metadata": {},
   "source": [
    "# joining arrays"
   ]
  },
  {
   "cell_type": "code",
   "execution_count": 19,
   "id": "409cfd7d-ed95-47b8-9e6c-2dc0b99c0e0e",
   "metadata": {},
   "outputs": [
    {
     "name": "stdout",
     "output_type": "stream",
     "text": [
      "[1 2 3 4 5 6]\n"
     ]
    }
   ],
   "source": [
    "arr1 = np.array([1, 2, 3])\n",
    "arr2 = np.array([4, 5, 6])\n",
    "\n",
    "arr3 = np.concatenate((arr1, arr2))\n",
    "print(arr3)"
   ]
  },
  {
   "cell_type": "code",
   "execution_count": 24,
   "id": "3cf93a45-e6b5-449f-97e5-60e6280656a9",
   "metadata": {},
   "outputs": [
    {
     "name": "stdout",
     "output_type": "stream",
     "text": [
      "arr1 :\n",
      "[[1 2]\n",
      " [3 4]]\n",
      "------------------------------------------------------------\n",
      "arr2 :\n",
      "[[5 6]\n",
      " [7 8]]\n",
      "------------------------------------------------------------\n",
      "[[1 2]\n",
      " [3 4]\n",
      " [5 6]\n",
      " [7 8]]\n",
      "------------------------------------------------------------\n",
      "[[1 2 5 6]\n",
      " [3 4 7 8]]\n"
     ]
    }
   ],
   "source": [
    "arr1 = np.array([[1, 2], [3, 4]])\n",
    "arr2 = np.array([[5, 6], [7, 8]])\n",
    "\n",
    "print(f\"arr1 :\\n{arr1}\")\n",
    "print(\"-\" * 60)\n",
    "print(f\"arr2 :\\n{arr2}\")\n",
    "\n",
    "print(\"-\" * 60)\n",
    "arr3 = np.concatenate((arr1, arr2), axis = 0)\n",
    "print(arr3)\n",
    "\n",
    "print(\"-\" * 60)\n",
    "arr4 = np.concatenate((arr1, arr2), axis = 1)\n",
    "print(arr4)"
   ]
  },
  {
   "cell_type": "markdown",
   "id": "aba36390-6377-4bb6-a770-9279a866298e",
   "metadata": {},
   "source": [
    "# stack"
   ]
  },
  {
   "cell_type": "code",
   "execution_count": 28,
   "id": "3c81c79b-a3aa-46b2-a14c-2b79caf8da53",
   "metadata": {},
   "outputs": [
    {
     "name": "stdout",
     "output_type": "stream",
     "text": [
      "arr1 :[1 2 3 4]\n",
      "arr2 :[5 6 7 8]\n",
      "------------------------------------------------------------\n",
      "arr3 :[1 2 3 4 5 6 7 8]\n",
      "------------------------------------------------------------\n",
      "arr4 :\n",
      "[[1 2 3 4]\n",
      " [5 6 7 8]]\n",
      "------------------------------------------------------------\n",
      "arr5 :\n",
      "[[[1 5]\n",
      "  [2 6]\n",
      "  [3 7]\n",
      "  [4 8]]]\n"
     ]
    }
   ],
   "source": [
    "arr1 = np.array([1, 2, 3, 4])\n",
    "arr2 = np.array([5, 6, 7, 8])\n",
    "\n",
    "print(f\"arr1 :{arr1}\")\n",
    "print(f\"arr2 :{arr2}\")\n",
    "\n",
    "print(\"-\" * 60)\n",
    "# hstack\n",
    "arr3 = np.hstack((arr1, arr2))\n",
    "print(f\"arr3 :{arr3}\")\n",
    "\n",
    "print(\"-\" * 60)\n",
    "# vstack\n",
    "arr4 = np.vstack((arr1, arr2))\n",
    "print(f\"arr4 :\\n{arr4}\")\n",
    "\n",
    "print(\"-\" * 60)\n",
    "# dstack\n",
    "arr5 = np.dstack((arr1,  arr2))\n",
    "print(f\"arr5 :\\n{arr5}\")"
   ]
  },
  {
   "cell_type": "markdown",
   "id": "dcf4960c-a809-457f-9aca-ca0090bb8ff3",
   "metadata": {},
   "source": [
    "# split"
   ]
  },
  {
   "cell_type": "code",
   "execution_count": 30,
   "id": "1161b0d7-8a6e-479f-81b2-623d9e465a61",
   "metadata": {},
   "outputs": [
    {
     "name": "stdout",
     "output_type": "stream",
     "text": [
      "arr :[1 2 3 4 5 6]\n",
      "------------------------------------------------------------\n",
      "[array([1, 2]), array([3, 4]), array([5, 6])]\n"
     ]
    }
   ],
   "source": [
    "arr = np.array([1, 2, 3, 4, 5, 6])\n",
    "print(f\"arr :{arr}\")\n",
    "\n",
    "print(\"-\" * 60)\n",
    "arr1 = np.array_split(arr)\n",
    "print(arr1)"
   ]
  },
  {
   "cell_type": "code",
   "execution_count": 31,
   "id": "fc965c43-d625-4e6a-b347-d0f764946a25",
   "metadata": {},
   "outputs": [
    {
     "name": "stdout",
     "output_type": "stream",
     "text": [
      "arr :[1 2 3 4 5 6]\n",
      "[array([1, 2]), array([3, 4]), array([5]), array([6])]\n"
     ]
    }
   ],
   "source": [
    "arr = np.array([1, 2, 3, 4, 5, 6])\n",
    "print(f\"arr :{arr}\")\n",
    "\n",
    "arr1 = np.array_split(arr, 4)\n",
    "print(arr1)"
   ]
  },
  {
   "cell_type": "code",
   "execution_count": 33,
   "id": "16d146fa-feef-4fb2-80aa-1c26add60ae0",
   "metadata": {},
   "outputs": [
    {
     "name": "stdout",
     "output_type": "stream",
     "text": [
      "[[ 1  2  3]\n",
      " [ 4  5  6]\n",
      " [ 7  8  9]\n",
      " [10 11 12]\n",
      " [13 14 15]\n",
      " [16 17 18]]\n",
      "------------------------------------------------------------\n",
      "[array([[1, 2, 3],\n",
      "       [4, 5, 6]]), array([[ 7,  8,  9],\n",
      "       [10, 11, 12]]), array([[13, 14, 15],\n",
      "       [16, 17, 18]])]\n",
      "------------------------------------------------------------\n",
      "[array([[ 1],\n",
      "       [ 4],\n",
      "       [ 7],\n",
      "       [10],\n",
      "       [13],\n",
      "       [16]]), array([[ 2],\n",
      "       [ 5],\n",
      "       [ 8],\n",
      "       [11],\n",
      "       [14],\n",
      "       [17]]), array([[ 3],\n",
      "       [ 6],\n",
      "       [ 9],\n",
      "       [12],\n",
      "       [15],\n",
      "       [18]])]\n"
     ]
    }
   ],
   "source": [
    "arr = np.array([[1, 2, 3], [4, 5, 6], [7, 8, 9], [10, 11, 12], [13, 14, 15], [16, 17, 18]])\n",
    "print(arr)\n",
    "\n",
    "print(\"-\" * 60)\n",
    "arr1 = np.array_split(arr, 3, axis=0)\n",
    "print(arr1)\n",
    "\n",
    "print(\"-\" * 60)\n",
    "arr2 = np.array_split(arr, 3, axis=1)\n",
    "print(arr2)"
   ]
  },
  {
   "cell_type": "markdown",
   "id": "ab886ff9-0503-43e0-b534-93d442e04f6d",
   "metadata": {},
   "source": [
    "search"
   ]
  },
  {
   "cell_type": "code",
   "execution_count": 34,
   "id": "89c8fee0-1d75-4905-ad9a-87dae9dbc8b2",
   "metadata": {},
   "outputs": [
    {
     "name": "stdout",
     "output_type": "stream",
     "text": [
      "(array([3, 5, 6]),)\n"
     ]
    }
   ],
   "source": [
    "arr = np.array([1, 2, 3, 4, 5, 4, 4])\n",
    "x = np.where(arr == 4)\n",
    "print(x)"
   ]
  },
  {
   "cell_type": "code",
   "execution_count": 35,
   "id": "5735d101-e20a-430d-b4d0-9bcbb28564a6",
   "metadata": {},
   "outputs": [
    {
     "name": "stdout",
     "output_type": "stream",
     "text": [
      "(array([0, 2, 4, 6]),)\n"
     ]
    }
   ],
   "source": [
    "arr = np.array([1, 2, 3, 4, 5, 6, 7, 8])\n",
    "x = np.where(arr % 2 == 1)\n",
    "print(x)"
   ]
  },
  {
   "cell_type": "code",
   "execution_count": 49,
   "id": "b9cd2e0c-6a86-40d1-9b32-9d6127ce5929",
   "metadata": {},
   "outputs": [
    {
     "name": "stdout",
     "output_type": "stream",
     "text": [
      "1\n"
     ]
    }
   ],
   "source": [
    "arr = np.array([6, 7, 8, 9])\n",
    "x = np.searchsorted(arr, 7)\n",
    "print(x)"
   ]
  },
  {
   "cell_type": "code",
   "execution_count": 47,
   "id": "55dce25d-524d-47a6-920b-de3dd965724e",
   "metadata": {},
   "outputs": [
    {
     "name": "stdout",
     "output_type": "stream",
     "text": [
      "2\n"
     ]
    }
   ],
   "source": [
    "arr = np.array([6, 7, 8, 9])\n",
    "\n",
    "x = np.searchsorted(arr,7, side=\"right\")\n",
    "\n",
    "print(x)"
   ]
  },
  {
   "cell_type": "markdown",
   "id": "17e4a379-d140-46c0-ace9-6ca9dbed25fb",
   "metadata": {},
   "source": [
    "Sort"
   ]
  },
  {
   "cell_type": "code",
   "execution_count": 53,
   "id": "6a7b9fad-8ea2-4287-9699-b5f59631ba00",
   "metadata": {},
   "outputs": [
    {
     "name": "stdout",
     "output_type": "stream",
     "text": [
      "arr :[ 7  4 10  1  5  8  3  6  2  9]\n",
      "Ascending Order : [ 1  2  3  4  5  6  7  8  9 10]\n",
      "Descending Order : [10  9  8  7  6  5  4  3  2  1]\n"
     ]
    }
   ],
   "source": [
    "arr = np.array([7, 4, 10, 1, 5, 8, 3, 6, 2, 9])\n",
    "print(f\"arr :{arr}\")\n",
    "\n",
    "print(\"Ascending Order :\", np.sort(arr))\n",
    "print(\"Descending Order :\", np.sort(arr)[::-1])\n"
   ]
  },
  {
   "cell_type": "code",
   "execution_count": 58,
   "id": "776e1279-00dc-49a1-9a3a-7727b3ccaca8",
   "metadata": {},
   "outputs": [
    {
     "name": "stdout",
     "output_type": "stream",
     "text": [
      "[[ 5  2  3  1  4]\n",
      " [ 9  6 10  7  8]]\n",
      "------------------------------------------------------------\n",
      "[[ 1  2  3  4  5]\n",
      " [ 6  7  8  9 10]]\n",
      "------------------------------------------------------------\n",
      "[[ 5  2  3  1  4]\n",
      " [ 9  6 10  7  8]]\n",
      "------------------------------------------------------------\n",
      "[[ 1  2  3  4  5]\n",
      " [ 6  7  8  9 10]]\n"
     ]
    }
   ],
   "source": [
    "arr = np.array([[5, 2, 3, 1, 4], [9, 6, 10, 7, 8]])\n",
    "print(arr)\n",
    "\n",
    "print(\"-\" * 60)\n",
    "print(np.sort(arr))\n",
    "\n",
    "print(\"-\" * 60)\n",
    "print(np.sort(arr, axis=0))\n",
    "\n",
    "print(\"-\" * 60)\n",
    "print(np.sort(arr, axis=1))"
   ]
  },
  {
   "cell_type": "code",
   "execution_count": 61,
   "id": "f61764d0-d867-4562-8fc2-95d15bef7086",
   "metadata": {},
   "outputs": [
    {
     "name": "stdout",
     "output_type": "stream",
     "text": [
      "names :['kevin' 'salter' 'jack' 'mike' 'bob' 'ana']\n",
      "['ana' 'bob' 'jack' 'kevin' 'mike' 'salter']\n",
      "['salter' 'mike' 'kevin' 'jack' 'bob' 'ana']\n"
     ]
    }
   ],
   "source": [
    "names = np.array(['kevin', 'salter', 'jack', 'mike', 'bob', 'ana'])\n",
    "print(f\"names :{names}\")\n",
    "\n",
    "print(np.sort(names))\n",
    "print(np.sort(names)[::-1])"
   ]
  },
  {
   "cell_type": "markdown",
   "id": "6095218f-49e2-4c98-adb6-32fcf7b9ba4c",
   "metadata": {},
   "source": [
    "Filter"
   ]
  },
  {
   "cell_type": "code",
   "execution_count": 68,
   "id": "18db6e4e-96d5-406e-916a-4a13ec64bc67",
   "metadata": {},
   "outputs": [
    {
     "name": "stdout",
     "output_type": "stream",
     "text": [
      "[ 1  2  3  4  5  6  7  8  9 10]\n",
      "[1 4 5 8 9]\n",
      "------------------------------------------------------------\n",
      "[ 2  4  6  8 10]\n"
     ]
    }
   ],
   "source": [
    "arr = np.array(list(range(1, 11)))\n",
    "print(arr)\n",
    "\n",
    "x = [True,False, False, True, True, False, False, True, True, False]\n",
    "arr1 = arr[x]\n",
    "\n",
    "print(arr1)\n",
    "\n",
    "print(\"-\" * 60)\n",
    "\n",
    "filtered = []\n",
    "\n",
    "for i in arr:\n",
    "    if i % 2 == 0:\n",
    "        filtered.append(True)\n",
    "    else:\n",
    "        filtered.append(False)\n",
    "\n",
    "res = arr[filtered]\n",
    "print(res)\n"
   ]
  },
  {
   "cell_type": "markdown",
   "id": "b5dc45c5-4a8e-4a26-a88b-797b1fed5972",
   "metadata": {},
   "source": [
    "# Broadcasting"
   ]
  },
  {
   "cell_type": "code",
   "execution_count": 71,
   "id": "0d5876ae-7a56-4ae3-8947-753416144e4b",
   "metadata": {},
   "outputs": [
    {
     "name": "stdout",
     "output_type": "stream",
     "text": [
      "[1 2 3 4]\n",
      "------------------------------------------------------------\n",
      "[2 3 4 5]\n"
     ]
    }
   ],
   "source": [
    "arr = np.array([1, 2, 3, 4])\n",
    "print(arr)\n",
    "\n",
    "print(\"-\" * 60)\n",
    "res = arr + 1\n",
    "print(res)"
   ]
  },
  {
   "cell_type": "code",
   "execution_count": 72,
   "id": "ec746aa0-e264-4cab-9a9c-31a3f91102a9",
   "metadata": {},
   "outputs": [
    {
     "name": "stdout",
     "output_type": "stream",
     "text": [
      "[[ 3  6  9]\n",
      " [ 6  9 12]]\n"
     ]
    }
   ],
   "source": [
    "arr1 = np.array([2, 4, 6])\n",
    "arr2 = np.array([[1, 2, 3], [4, 5, 6]])\n",
    "\n",
    "res = arr1 + arr2\n",
    "print(res)"
   ]
  },
  {
   "cell_type": "code",
   "execution_count": 73,
   "id": "1d370f86-4630-4d72-a475-c20202bde846",
   "metadata": {},
   "outputs": [
    {
     "name": "stdout",
     "output_type": "stream",
     "text": [
      "[1 2 3 4 5]\n",
      "[6]\n",
      "[ 7  8  9 10 11]\n"
     ]
    }
   ],
   "source": [
    "arr = np.array([1, 2, 3, 4, 5])\n",
    "arr1 = np.array([6])\n",
    "\n",
    "print(arr)\n",
    "print(arr1)\n",
    "\n",
    "res = arr + arr1\n",
    "print(res)"
   ]
  },
  {
   "cell_type": "code",
   "execution_count": 77,
   "id": "60f29477-561a-4097-a829-2023c48693c8",
   "metadata": {},
   "outputs": [
    {
     "name": "stdout",
     "output_type": "stream",
     "text": [
      "[[1]\n",
      " [2]\n",
      " [3]]\n",
      "(3, 1)\n",
      "[10 20 30]\n",
      "(3,)\n",
      "[[11 21 31]\n",
      " [12 22 32]\n",
      " [13 23 33]]\n"
     ]
    }
   ],
   "source": [
    "arr1 = np.array([[1], [2], [3]])\n",
    "print(arr1)\n",
    "print(arr1.shape)\n",
    "\n",
    "arr2 = np.array([10 ,20, 30])\n",
    "print(arr2)\n",
    "print(arr2.shape)\n",
    "\n",
    "res = arr1 + arr2\n",
    "print(res)"
   ]
  },
  {
   "cell_type": "code",
   "execution_count": 82,
   "id": "f0ed0c0a-7bb4-439c-b9d8-d76581f3b614",
   "metadata": {},
   "outputs": [
    {
     "name": "stdout",
     "output_type": "stream",
     "text": [
      "[[30 32 34 33 32]\n",
      " [25 27 29 28 26]\n",
      " [20 22 24 23 21]]\n",
      "------------------------------------------------------------\n",
      "[[31.5 33.5 35.5 34.5 33.5]\n",
      " [24.5 26.5 28.5 27.5 25.5]\n",
      " [22.  24.  26.  25.  23. ]]\n"
     ]
    }
   ],
   "source": [
    "temperatures = np.array([\n",
    "    [30, 32, 34, 33, 32],\n",
    "    [25, 27, 29, 28, 26],\n",
    "    [20, 22, 24, 23, 21]\n",
    "])\n",
    "\n",
    "print(temperatures)\n",
    "\n",
    "print(\"-\" * 60)\n",
    "\n",
    "corrections = np.array([1.5, -0.5, 2.0])\n",
    "\n",
    "res_temp = temperatures + corrections[:, np.newaxis]\n",
    "\n",
    "print(res_temp)"
   ]
  },
  {
   "cell_type": "code",
   "execution_count": 86,
   "id": "8f5b7cde-1d7c-4f1a-9878-3d8ee1742bd8",
   "metadata": {},
   "outputs": [
    {
     "name": "stdout",
     "output_type": "stream",
     "text": [
      "[10 20 30 40 50]\n",
      "MEAN : 30.0\n",
      "MEDIAN : 25.0\n"
     ]
    }
   ],
   "source": [
    "data = np.array([10, 20, 30, 40, 50])\n",
    "print(data)\n",
    "\n",
    "print(\"MEAN :\", np.mean(data))\n",
    "print(\"MEDIAN :\", np.median(np.array([10, 20, 30, 40])))\n"
   ]
  },
  {
   "cell_type": "code",
   "execution_count": 87,
   "id": "b3d13ecf-72c2-4700-b8a6-442f436a0fcd",
   "metadata": {},
   "outputs": [
    {
     "name": "stdout",
     "output_type": "stream",
     "text": [
      "[[1. 2. 3.]\n",
      " [4. 0. 6.]\n",
      " [0. 7. 8.]\n",
      " [0. 0. 9.]]\n"
     ]
    }
   ],
   "source": [
    "data = np.genfromtxt(\"data.txt\", delimiter=\",\", filling_values=0)\n",
    "print(data)"
   ]
  },
  {
   "cell_type": "code",
   "execution_count": 88,
   "id": "7885039a-c5c9-4144-a68c-6ef3a7e0560b",
   "metadata": {},
   "outputs": [
    {
     "name": "stdout",
     "output_type": "stream",
     "text": [
      "[6. 6. 8.]\n",
      "[2.55 3.39 2.75]\n"
     ]
    }
   ],
   "source": [
    "# Load the data from the text file\n",
    "sales = np.genfromtxt(\"Stocks.txt\", delimiter=\",\", names=True, dtype=None, encoding='utf-8')\n",
    "\n",
    "# Extract numeric columns\n",
    "quantities = sales['Quantity'].astype(float)\n",
    "unit_price = sales['UnitPrice'].astype(float)\n",
    "\n",
    "print(quantities)\n",
    "print(unit_price)"
   ]
  },
  {
   "cell_type": "code",
   "execution_count": 90,
   "id": "edfe9c20-457c-4acf-9cdb-11221096aca9",
   "metadata": {},
   "outputs": [
    {
     "name": "stdout",
     "output_type": "stream",
     "text": [
      "['2023-01-01' '2023-01-02' '2023-01-03']\n",
      "[100 200 150]\n"
     ]
    }
   ],
   "source": [
    "# load the csv file\n",
    "data = np.genfromtxt(\"sample.csv\", delimiter=\",\", dtype=None, encoding='utf-8')\n",
    "\n",
    "# convert first column f0 to datetime64[D]\n",
    "dates = data['f0'].astype('datetime64[D]')\n",
    "print(dates)\n",
    "\n",
    "data = data['f1']\n",
    "print(data)"
   ]
  },
  {
   "cell_type": "code",
   "execution_count": null,
   "id": "6b756c9b-0a26-45fe-8d18-c5e43116798f",
   "metadata": {},
   "outputs": [],
   "source": []
  }
 ],
 "metadata": {
  "kernelspec": {
   "display_name": "Python 3 (ipykernel)",
   "language": "python",
   "name": "python3"
  },
  "language_info": {
   "codemirror_mode": {
    "name": "ipython",
    "version": 3
   },
   "file_extension": ".py",
   "mimetype": "text/x-python",
   "name": "python",
   "nbconvert_exporter": "python",
   "pygments_lexer": "ipython3",
   "version": "3.13.5"
  }
 },
 "nbformat": 4,
 "nbformat_minor": 5
}
