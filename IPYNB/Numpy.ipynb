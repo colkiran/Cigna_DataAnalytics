{
 "cells": [
  {
   "cell_type": "code",
   "execution_count": 1,
   "id": "f889143f-e18e-4d81-b2aa-4fa7981d6884",
   "metadata": {},
   "outputs": [],
   "source": [
    "import numpy as np"
   ]
  },
  {
   "cell_type": "code",
   "execution_count": 2,
   "id": "f38d5697-dc9f-4714-92c7-72ba19e0b8ac",
   "metadata": {},
   "outputs": [
    {
     "name": "stdout",
     "output_type": "stream",
     "text": [
      "[1 2 3 4 5]\n"
     ]
    }
   ],
   "source": [
    "arr = np.array([1, 2, 3, 4, 5])\n",
    "\n",
    "print(arr)"
   ]
  },
  {
   "cell_type": "code",
   "execution_count": 3,
   "id": "fe71dc1b-6f39-4775-ad5c-937d66b7313e",
   "metadata": {},
   "outputs": [
    {
     "name": "stdout",
     "output_type": "stream",
     "text": [
      "2.1.3\n"
     ]
    }
   ],
   "source": [
    "print(np.__version__)"
   ]
  },
  {
   "cell_type": "code",
   "execution_count": 4,
   "id": "a2fd8d3e-c7ba-4f73-8853-7682bf3dcf5e",
   "metadata": {},
   "outputs": [
    {
     "name": "stdout",
     "output_type": "stream",
     "text": [
      "[1 2 3 4 5]\n",
      "<class 'numpy.ndarray'>\n"
     ]
    }
   ],
   "source": [
    "arr = np.array([1, 2, 3, 4, 5])\n",
    "\n",
    "print(arr)\n",
    "\n",
    "print(type(arr))"
   ]
  },
  {
   "cell_type": "code",
   "execution_count": 7,
   "id": "3d1f28a7-0aa9-450e-b88f-2cd4b9fc3264",
   "metadata": {},
   "outputs": [
    {
     "name": "stdout",
     "output_type": "stream",
     "text": [
      "arr[0] :1\n",
      "arr[3] :4\n",
      "arr[-1] :5\n"
     ]
    }
   ],
   "source": [
    "print(f\"arr[0] :{arr[0]}\")\n",
    "print(f\"arr[3] :{arr[3]}\")\n",
    "print(f\"arr[-1] :{arr[-1]}\")"
   ]
  },
  {
   "cell_type": "code",
   "execution_count": 8,
   "id": "0d45031b-b419-4590-904c-0d8ab3a378a4",
   "metadata": {},
   "outputs": [
    {
     "name": "stdout",
     "output_type": "stream",
     "text": [
      "arr[1] + arr[3] :6\n",
      "arr[4] - arr[0] :4\n"
     ]
    }
   ],
   "source": [
    "print(f\"arr[1] + arr[3] :{arr[1] + arr[3]}\")\n",
    "print(f\"arr[4] - arr[0] :{arr[4] - arr[0]}\")"
   ]
  },
  {
   "cell_type": "code",
   "execution_count": 11,
   "id": "e44f57e3-1079-461e-ad13-94f0bc44914a",
   "metadata": {},
   "outputs": [
    {
     "name": "stdout",
     "output_type": "stream",
     "text": [
      "arr1 :\n",
      "[[ 1  2  3  4  5]\n",
      " [ 6  7  8  9 10]]\n",
      "arr1[1, 3] :9\n"
     ]
    }
   ],
   "source": [
    "arr1 = np.array([[1, 2, 3, 4, 5], [6, 7, 8, 9, 10]])\n",
    "print(f\"arr1 :\\n{arr1}\")\n",
    "\n",
    "print(f\"arr1[1, 3] :{arr1[1, 3]}\")"
   ]
  },
  {
   "cell_type": "code",
   "execution_count": 12,
   "id": "73945a34-6ac1-4dbc-8c3d-db35b1b01d9b",
   "metadata": {},
   "outputs": [
    {
     "name": "stdout",
     "output_type": "stream",
     "text": [
      "arr2 :\n",
      "[[[ 1  2  3]\n",
      "  [ 4  5  6]]\n",
      "\n",
      " [[ 7  8  9]\n",
      "  [10 11 12]]]\n"
     ]
    }
   ],
   "source": [
    "arr2 = np.array([[[1, 2, 3], [4, 5, 6]], [[7, 8, 9], [10, 11, 12]]])\n",
    "print(f\"arr2 :\\n{arr2}\")"
   ]
  },
  {
   "cell_type": "code",
   "execution_count": 13,
   "id": "9da1c557-9caf-484f-8332-64da6ef0ba86",
   "metadata": {},
   "outputs": [
    {
     "name": "stdout",
     "output_type": "stream",
     "text": [
      "6\n"
     ]
    }
   ],
   "source": [
    "print(arr2[0, 1, 2])"
   ]
  },
  {
   "cell_type": "code",
   "execution_count": 16,
   "id": "3e69ac2f-aa88-488e-b549-d4f83909e902",
   "metadata": {},
   "outputs": [
    {
     "name": "stdout",
     "output_type": "stream",
     "text": [
      "arr2[1, -1, -2] :11\n"
     ]
    }
   ],
   "source": [
    "print(f\"arr2[1, -1, -2] :{arr2[1, -1, -2]}\")"
   ]
  },
  {
   "cell_type": "markdown",
   "id": "023db9be-d839-4a9a-a256-1dfb8bd0c0de",
   "metadata": {},
   "source": [
    "## Slicing"
   ]
  },
  {
   "cell_type": "code",
   "execution_count": 21,
   "id": "0903b8e9-8502-435b-8aa0-a4dff1a5f89b",
   "metadata": {},
   "outputs": [
    {
     "name": "stdout",
     "output_type": "stream",
     "text": [
      "[2 3 4 5]\n",
      "[5 6 7]\n",
      "[1 2 3 4]\n",
      "[2 4]\n",
      "[1 3 5 7]\n"
     ]
    }
   ],
   "source": [
    "arr1 = np.array([1, 2, 3, 4, 5, 6, 7])\n",
    "\n",
    "print(arr1[1:5])\n",
    "\n",
    "print(arr1[4:])\n",
    "\n",
    "print(arr1[:-3])\n",
    "\n",
    "print(arr1[1:5:2])\n",
    "\n",
    "print(arr1[::2])"
   ]
  },
  {
   "cell_type": "code",
   "execution_count": 25,
   "id": "63a0b431-b120-4c7f-b5eb-3480c604820f",
   "metadata": {},
   "outputs": [
    {
     "name": "stdout",
     "output_type": "stream",
     "text": [
      "arr2 :\n",
      "[[ 1  2  3  4  5]\n",
      " [ 6  7  8  9 10]]\n",
      "[7 8 9]\n",
      "[3 8]\n",
      "[[2 3 4]\n",
      " [7 8 9]]\n"
     ]
    }
   ],
   "source": [
    "arr2 = np.array([[1, 2, 3, 4, 5], [6, 7, 8, 9, 10]])\n",
    "\n",
    "print(f'arr2 :\\n{arr2}')\n",
    "\n",
    "print(arr2[1, 1:4])\n",
    "\n",
    "print(arr2[0:2, 2])\n",
    "\n",
    "print(arr2[0:2, 1:4])"
   ]
  },
  {
   "cell_type": "markdown",
   "id": "fc01f166-f507-4503-8aa3-96fa01bf6188",
   "metadata": {},
   "source": [
    "# Numpy Data Types"
   ]
  },
  {
   "cell_type": "code",
   "execution_count": 27,
   "id": "83d7b3fc-2110-421b-a01c-d12db245cf7e",
   "metadata": {},
   "outputs": [
    {
     "name": "stdout",
     "output_type": "stream",
     "text": [
      "arr1 :[1 2 3 4 5]\n",
      "Data Type :int64\n"
     ]
    }
   ],
   "source": [
    "arr1 = np.array([1, 2, 3, 4, 5])\n",
    "\n",
    "print(f\"arr1 :{arr1}\")\n",
    "\n",
    "print(f\"Data Type :{arr1.dtype}\")"
   ]
  },
  {
   "cell_type": "code",
   "execution_count": 28,
   "id": "2d8e0c63-fad9-4d4f-a40c-59cc2260e1ab",
   "metadata": {},
   "outputs": [
    {
     "name": "stdout",
     "output_type": "stream",
     "text": [
      "arr1 :\n",
      "['apple' 'orange' 'grapes' 'gauva']\n",
      "<U6\n"
     ]
    }
   ],
   "source": [
    "arr1 = np.array(['apple', 'orange', 'grapes', 'gauva'])\n",
    "\n",
    "print(f\"arr1 :\\n{arr1}\")\n",
    "\n",
    "print(arr1.dtype)"
   ]
  },
  {
   "cell_type": "code",
   "execution_count": null,
   "id": "3bc6aeab-2f14-4306-b536-5da7901b1a24",
   "metadata": {},
   "outputs": [],
   "source": []
  }
 ],
 "metadata": {
  "kernelspec": {
   "display_name": "Python 3 (ipykernel)",
   "language": "python",
   "name": "python3"
  },
  "language_info": {
   "codemirror_mode": {
    "name": "ipython",
    "version": 3
   },
   "file_extension": ".py",
   "mimetype": "text/x-python",
   "name": "python",
   "nbconvert_exporter": "python",
   "pygments_lexer": "ipython3",
   "version": "3.13.5"
  }
 },
 "nbformat": 4,
 "nbformat_minor": 5
}
