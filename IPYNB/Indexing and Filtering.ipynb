{
 "cells": [
  {
   "cell_type": "code",
   "execution_count": 1,
   "id": "ac75eba5-2484-44c9-b9d6-0863825e750d",
   "metadata": {},
   "outputs": [
    {
     "name": "stdout",
     "output_type": "stream",
     "text": [
      "          one  two  three  four\n",
      "London      0    1      2     3\n",
      "Paris       4    5      6     7\n",
      "Berlin      8    9     10    11\n",
      "Istanbul   12   13     14    15\n"
     ]
    }
   ],
   "source": [
    "import pandas as pd\n",
    "import numpy as np\n",
    "data = pd.DataFrame(\n",
    "np.arange(16).reshape(4, 4), \n",
    "index = ['London', 'Paris', 'Berlin', 'Istanbul'], \n",
    "columns = ['one', 'two', 'three', 'four'])\n",
    "\n",
    "print(data)"
   ]
  },
  {
   "cell_type": "code",
   "execution_count": 2,
   "id": "d2dbda70-1cbd-49b1-b5cc-a5b7cebb7ad3",
   "metadata": {},
   "outputs": [
    {
     "name": "stdout",
     "output_type": "stream",
     "text": [
      "London       1\n",
      "Paris        5\n",
      "Berlin       9\n",
      "Istanbul    13\n",
      "Name: two, dtype: int64\n"
     ]
    }
   ],
   "source": [
    "print(data['two'])"
   ]
  },
  {
   "cell_type": "code",
   "execution_count": 7,
   "id": "336667f2-f49f-48cc-94f9-0b1d2517e00c",
   "metadata": {},
   "outputs": [
    {
     "name": "stdout",
     "output_type": "stream",
     "text": [
      "          one  two\n",
      "London      0    1\n",
      "Paris       4    5\n",
      "Berlin      8    9\n",
      "Istanbul   12   13\n"
     ]
    }
   ],
   "source": [
    "print(data[['one', 'two']])"
   ]
  },
  {
   "cell_type": "code",
   "execution_count": 8,
   "id": "1dd4c833-dd75-4782-95c6-238496e6177f",
   "metadata": {},
   "outputs": [
    {
     "name": "stdout",
     "output_type": "stream",
     "text": [
      "        one  two  three  four\n",
      "London    0    1      2     3\n",
      "Paris     4    5      6     7\n",
      "Berlin    8    9     10    11\n"
     ]
    }
   ],
   "source": [
    "print(data[:3])"
   ]
  },
  {
   "cell_type": "code",
   "execution_count": 9,
   "id": "5d506902-7383-4c87-8f66-5e0726b676ce",
   "metadata": {},
   "outputs": [
    {
     "name": "stdout",
     "output_type": "stream",
     "text": [
      "          one  two  three  four\n",
      "Paris       4    5      6     7\n",
      "Berlin      8    9     10    11\n",
      "Istanbul   12   13     14    15\n"
     ]
    }
   ],
   "source": [
    "print(data[data['four']>5])"
   ]
  },
  {
   "cell_type": "code",
   "execution_count": 13,
   "id": "ca28da6d-98ef-43e8-8cef-bc84e923f56e",
   "metadata": {},
   "outputs": [
    {
     "name": "stdout",
     "output_type": "stream",
     "text": [
      "one      0\n",
      "two      1\n",
      "three    2\n",
      "four     3\n",
      "Name: London, dtype: int64\n"
     ]
    }
   ],
   "source": [
    "print(data.loc[\"London\"])"
   ]
  },
  {
   "cell_type": "code",
   "execution_count": 14,
   "id": "3b44df06-15bb-4c9a-a6c7-df67f9f9880f",
   "metadata": {},
   "outputs": [],
   "source": [
    "data={\"name\":[\"Bill\",\"Tom\",\"Tim\",\"John\",\"Alex\",\"Vanessa\",\"Kate\"],      \n",
    "      \"score\":[90,80,85,75,95,60,65],      \n",
    "      \"sport\":[\"Wrestling\",\"Football\",\"Skiing\",\"Swimming\",\"Tennis\",\n",
    "               \"Karete\",\"Surfing\"],      \n",
    "      \"sex\":[\"M\",\"M\",\"M\",\"M\",\"F\",\"F\",\"F\"]}"
   ]
  },
  {
   "cell_type": "code",
   "execution_count": 15,
   "id": "3c0d6cc4-6dec-4cac-86d2-f3fef09d15d0",
   "metadata": {},
   "outputs": [
    {
     "name": "stdout",
     "output_type": "stream",
     "text": [
      "{'name': ['Bill', 'Tom', 'Tim', 'John', 'Alex', 'Vanessa', 'Kate'], 'score': [90, 80, 85, 75, 95, 60, 65], 'sport': ['Wrestling', 'Football', 'Skiing', 'Swimming', 'Tennis', 'Karete', 'Surfing'], 'sex': ['M', 'M', 'M', 'M', 'F', 'F', 'F']}\n"
     ]
    }
   ],
   "source": [
    "print(data)"
   ]
  },
  {
   "cell_type": "code",
   "execution_count": 33,
   "id": "3d59ee0f-36e3-4a52-83e8-a961c96de3ae",
   "metadata": {},
   "outputs": [
    {
     "name": "stdout",
     "output_type": "stream",
     "text": [
      "      name  score      sport sex\n",
      "0     Bill     90  Wrestling   M\n",
      "1      Tom     80   Football   M\n",
      "2      Tim     85     Skiing   M\n",
      "3     John     75   Swimming   M\n",
      "4     Alex     95     Tennis   F\n",
      "5  Vanessa     60     Karete   F\n",
      "6     Kate     65    Surfing   F\n"
     ]
    }
   ],
   "source": [
    "df = pd.DataFrame(data)\n",
    "print(df)"
   ]
  },
  {
   "cell_type": "code",
   "execution_count": 18,
   "id": "7b6d9c3f-1e0a-47fc-a8c8-8dcd5f659d5c",
   "metadata": {},
   "outputs": [
    {
     "name": "stdout",
     "output_type": "stream",
     "text": [
      "   name  score      sport sex\n",
      "0  Bill     90  Wrestling   M\n",
      "1   Tom     80   Football   M\n",
      "2   Tim     85     Skiing   M\n",
      "3  John     75   Swimming   M\n",
      "4  Alex     95     Tennis   F\n"
     ]
    }
   ],
   "source": [
    "print(df.head())"
   ]
  },
  {
   "cell_type": "code",
   "execution_count": 19,
   "id": "86d00479-be4c-4853-891c-1e8973c01af9",
   "metadata": {},
   "outputs": [
    {
     "name": "stdout",
     "output_type": "stream",
     "text": [
      "      name  score     sport sex\n",
      "2      Tim     85    Skiing   M\n",
      "3     John     75  Swimming   M\n",
      "4     Alex     95    Tennis   F\n",
      "5  Vanessa     60    Karete   F\n",
      "6     Kate     65   Surfing   F\n"
     ]
    }
   ],
   "source": [
    "print(df.tail())"
   ]
  },
  {
   "cell_type": "code",
   "execution_count": 20,
   "id": "11b5a9d8-b5f8-4f8b-948d-9815e1c7b608",
   "metadata": {},
   "outputs": [
    {
     "name": "stdout",
     "output_type": "stream",
     "text": [
      "   name  score      sport sex\n",
      "0  Bill     90  Wrestling   M\n",
      "1   Tom     80   Football   M\n",
      "2   Tim     85     Skiing   M\n"
     ]
    }
   ],
   "source": [
    "print(df.head(3))"
   ]
  },
  {
   "cell_type": "code",
   "execution_count": 21,
   "id": "4a76c131-b840-48b5-a78a-fbcbf60e2836",
   "metadata": {},
   "outputs": [
    {
     "name": "stdout",
     "output_type": "stream",
     "text": [
      "      name  score      sport sex\n",
      "0     Bill     90  Wrestling   M\n",
      "1      Tom     80   Football   M\n",
      "2      Tim     85     Skiing   M\n",
      "3     John     75   Swimming   M\n",
      "4     Alex     95     Tennis   F\n",
      "5  Vanessa     60     Karete   F\n",
      "6     Kate     65    Surfing   F\n"
     ]
    }
   ],
   "source": [
    "print(df.tail(10))"
   ]
  },
  {
   "cell_type": "code",
   "execution_count": 25,
   "id": "a1d20575-2fc1-4610-875b-098acc568d37",
   "metadata": {},
   "outputs": [
    {
     "name": "stdout",
     "output_type": "stream",
     "text": [
      "(7, 4)\n"
     ]
    }
   ],
   "source": [
    "print(df.shape)"
   ]
  },
  {
   "cell_type": "code",
   "execution_count": 34,
   "id": "bc03e7e5-ab50-441b-b592-c7361d4fabf8",
   "metadata": {},
   "outputs": [
    {
     "name": "stdout",
     "output_type": "stream",
     "text": [
      "<class 'pandas.core.frame.DataFrame'>\n",
      "RangeIndex: 7 entries, 0 to 6\n",
      "Data columns (total 4 columns):\n",
      " #   Column  Non-Null Count  Dtype \n",
      "---  ------  --------------  ----- \n",
      " 0   name    7 non-null      object\n",
      " 1   score   7 non-null      int64 \n",
      " 2   sport   7 non-null      object\n",
      " 3   sex     7 non-null      object\n",
      "dtypes: int64(1), object(3)\n",
      "memory usage: 356.0+ bytes\n",
      "None\n"
     ]
    }
   ],
   "source": [
    "print(df.info())"
   ]
  },
  {
   "cell_type": "code",
   "execution_count": 38,
   "id": "2cdab0bb-a86d-42a2-99bf-8265e90fa7a7",
   "metadata": {},
   "outputs": [
    {
     "name": "stdout",
     "output_type": "stream",
     "text": [
      "Index(['name', 'score', 'sport', 'gender'], dtype='object')\n",
      "Index(['name', 'score', 'sport', 'gender'], dtype='object')\n"
     ]
    }
   ],
   "source": [
    "print(df.columns)\n",
    "df.rename(columns={'sex': 'gender'}, inplace=True)\n",
    "print(df.columns)"
   ]
  },
  {
   "cell_type": "code",
   "execution_count": 39,
   "id": "fb4ba36f-f42c-4284-ad5f-a89f58d3f29f",
   "metadata": {},
   "outputs": [
    {
     "name": "stdout",
     "output_type": "stream",
     "text": [
      "0    Wrestling\n",
      "1     Football\n",
      "2       Skiing\n",
      "3     Swimming\n",
      "4       Tennis\n",
      "5       Karete\n",
      "6      Surfing\n",
      "Name: sport, dtype: object\n"
     ]
    }
   ],
   "source": [
    "print(df['sport'])"
   ]
  },
  {
   "cell_type": "code",
   "execution_count": 40,
   "id": "9df573b6-3f45-4bdb-8afc-d2692d80da77",
   "metadata": {},
   "outputs": [
    {
     "name": "stdout",
     "output_type": "stream",
     "text": [
      "      name      sport\n",
      "0     Bill  Wrestling\n",
      "1      Tom   Football\n",
      "2      Tim     Skiing\n",
      "3     John   Swimming\n",
      "4     Alex     Tennis\n",
      "5  Vanessa     Karete\n",
      "6     Kate    Surfing\n"
     ]
    }
   ],
   "source": [
    "my_columns = [\"name\", \"sport\"]\n",
    "print(df[my_columns])"
   ]
  },
  {
   "cell_type": "code",
   "execution_count": 50,
   "id": "c3c8586a-9c2d-486a-9cf6-1e67de9f26fb",
   "metadata": {},
   "outputs": [
    {
     "name": "stdout",
     "output_type": "stream",
     "text": [
      "      name  score      sport gender\n",
      "0     Bill     90  Wrestling      M\n",
      "1      Tom     80   Football      M\n",
      "2      Tim     85     Skiing      M\n",
      "3     John     75   Swimming      M\n",
      "4     Alex     95     Tennis      F\n",
      "5  Vanessa     60     Karete      F\n",
      "6     Kate     65    Surfing      F\n"
     ]
    },
    {
     "data": {
      "text/html": [
       "<div>\n",
       "<style scoped>\n",
       "    .dataframe tbody tr th:only-of-type {\n",
       "        vertical-align: middle;\n",
       "    }\n",
       "\n",
       "    .dataframe tbody tr th {\n",
       "        vertical-align: top;\n",
       "    }\n",
       "\n",
       "    .dataframe thead th {\n",
       "        text-align: right;\n",
       "    }\n",
       "</style>\n",
       "<table border=\"1\" class=\"dataframe\">\n",
       "  <thead>\n",
       "    <tr style=\"text-align: right;\">\n",
       "      <th></th>\n",
       "      <th>name</th>\n",
       "      <th>sport</th>\n",
       "      <th>gender</th>\n",
       "      <th>score</th>\n",
       "      <th>age</th>\n",
       "    </tr>\n",
       "  </thead>\n",
       "  <tbody>\n",
       "    <tr>\n",
       "      <th>one</th>\n",
       "      <td>Bill</td>\n",
       "      <td>Wrestling</td>\n",
       "      <td>M</td>\n",
       "      <td>90</td>\n",
       "      <td>NaN</td>\n",
       "    </tr>\n",
       "    <tr>\n",
       "      <th>two</th>\n",
       "      <td>Tom</td>\n",
       "      <td>Football</td>\n",
       "      <td>M</td>\n",
       "      <td>80</td>\n",
       "      <td>NaN</td>\n",
       "    </tr>\n",
       "    <tr>\n",
       "      <th>three</th>\n",
       "      <td>Tim</td>\n",
       "      <td>Skiing</td>\n",
       "      <td>M</td>\n",
       "      <td>85</td>\n",
       "      <td>NaN</td>\n",
       "    </tr>\n",
       "    <tr>\n",
       "      <th>four</th>\n",
       "      <td>John</td>\n",
       "      <td>Swimming</td>\n",
       "      <td>M</td>\n",
       "      <td>75</td>\n",
       "      <td>NaN</td>\n",
       "    </tr>\n",
       "    <tr>\n",
       "      <th>five</th>\n",
       "      <td>Alex</td>\n",
       "      <td>Tennis</td>\n",
       "      <td>F</td>\n",
       "      <td>95</td>\n",
       "      <td>NaN</td>\n",
       "    </tr>\n",
       "    <tr>\n",
       "      <th>six</th>\n",
       "      <td>Vanessa</td>\n",
       "      <td>Karete</td>\n",
       "      <td>F</td>\n",
       "      <td>60</td>\n",
       "      <td>NaN</td>\n",
       "    </tr>\n",
       "    <tr>\n",
       "      <th>seven</th>\n",
       "      <td>Kate</td>\n",
       "      <td>Surfing</td>\n",
       "      <td>F</td>\n",
       "      <td>65</td>\n",
       "      <td>NaN</td>\n",
       "    </tr>\n",
       "  </tbody>\n",
       "</table>\n",
       "</div>"
      ],
      "text/plain": [
       "          name      sport gender  score  age\n",
       "one       Bill  Wrestling      M     90  NaN\n",
       "two        Tom   Football      M     80  NaN\n",
       "three      Tim     Skiing      M     85  NaN\n",
       "four      John   Swimming      M     75  NaN\n",
       "five      Alex     Tennis      F     95  NaN\n",
       "six    Vanessa     Karete      F     60  NaN\n",
       "seven     Kate    Surfing      F     65  NaN"
      ]
     },
     "execution_count": 50,
     "metadata": {},
     "output_type": "execute_result"
    }
   ],
   "source": [
    "print(df)\n",
    "df1 = pd.DataFrame(data = df,columns=[\"name\", \"sport\", \"gender\", \"score\", \"age\"])\n",
    "df1.rename(index={0: \"one\", 1: 'two', 2: \"three\", 3:\"four\", 4:\"five\", 5: \"six\", 6: \"seven\"}, inplace=True)\n",
    "df1"
   ]
  },
  {
   "cell_type": "code",
   "execution_count": 51,
   "id": "bb8d134a-63c3-4e78-a657-294714e42d0b",
   "metadata": {},
   "outputs": [
    {
     "name": "stdout",
     "output_type": "stream",
     "text": [
      "name           Bill\n",
      "sport     Wrestling\n",
      "gender            M\n",
      "score            90\n",
      "age             NaN\n",
      "Name: one, dtype: object\n"
     ]
    }
   ],
   "source": [
    "print(df1.loc['one'])"
   ]
  },
  {
   "cell_type": "code",
   "execution_count": 54,
   "id": "2268d584-d49a-4158-9150-e6d89dbd8377",
   "metadata": {},
   "outputs": [
    {
     "name": "stdout",
     "output_type": "stream",
     "text": [
      "      name      sport gender  score  age\n",
      "one   Bill  Wrestling      M     90  NaN\n",
      "five  Alex     Tennis      F     95  NaN\n"
     ]
    }
   ],
   "source": [
    "print(df1.loc[['one', 'five']])"
   ]
  },
  {
   "cell_type": "code",
   "execution_count": 56,
   "id": "f7f8655c-50b7-4ae4-8919-998c1ee9ba80",
   "metadata": {},
   "outputs": [
    {
     "name": "stdout",
     "output_type": "stream",
     "text": [
      "['one', 'three', 'five', 'seven']\n",
      "       name      sport gender  score  age\n",
      "one    Bill  Wrestling      M     90  NaN\n",
      "three   Tim     Skiing      M     85  NaN\n",
      "five   Alex     Tennis      F     95  NaN\n",
      "seven  Kate    Surfing      F     65  NaN\n"
     ]
    }
   ],
   "source": [
    "my_rows = ['one', 'three', 'five', 'seven']\n",
    "print(my_rows)\n",
    "\n",
    "print(df1.loc[my_rows])"
   ]
  },
  {
   "cell_type": "code",
   "execution_count": 57,
   "id": "33b0d2d9-e1b5-4768-8744-44e5149465ef",
   "metadata": {},
   "outputs": [
    {
     "name": "stdout",
     "output_type": "stream",
     "text": [
      "          name      sport gender  score  age\n",
      "one       Bill  Wrestling      M     90   19\n",
      "two        Tom   Football      M     80   20\n",
      "three      Tim     Skiing      M     85   17\n",
      "four      John   Swimming      M     75   19\n",
      "five      Alex     Tennis      F     95   21\n",
      "six    Vanessa     Karete      F     60   18\n",
      "seven     Kate    Surfing      F     65   20\n"
     ]
    }
   ],
   "source": [
    "values = [19, 20, 17, 19, 21, 18, 20]\n",
    "df1[\"age\"] = values\n",
    "print(df1)"
   ]
  },
  {
   "cell_type": "code",
   "execution_count": 59,
   "id": "259494dc-b7fa-403a-92c2-054580fc9793",
   "metadata": {},
   "outputs": [
    {
     "name": "stdout",
     "output_type": "stream",
     "text": [
      "          name      sport gender  score  age   pass\n",
      "one       Bill  Wrestling      M     90   19   True\n",
      "two        Tom   Football      M     80   20   True\n",
      "three      Tim     Skiing      M     85   17   True\n",
      "four      John   Swimming      M     75   19   True\n",
      "five      Alex     Tennis      F     95   21   True\n",
      "six    Vanessa     Karete      F     60   18  False\n",
      "seven     Kate    Surfing      F     65   20  False\n"
     ]
    }
   ],
   "source": [
    "df1[\"pass\"] = df1.score > 70\n",
    "print(df1)"
   ]
  },
  {
   "cell_type": "code",
   "execution_count": 60,
   "id": "75c8d536-3dcf-4942-8b0a-62325849b048",
   "metadata": {},
   "outputs": [
    {
     "name": "stdout",
     "output_type": "stream",
     "text": [
      "name           Tom\n",
      "sport     Football\n",
      "gender           M\n",
      "score           80\n",
      "age             20\n",
      "pass          True\n",
      "Name: two, dtype: object\n"
     ]
    }
   ],
   "source": [
    "print(df1.iloc[1])"
   ]
  },
  {
   "cell_type": "code",
   "execution_count": 61,
   "id": "58d856a0-c5f9-422b-9e5d-98564549ce34",
   "metadata": {},
   "outputs": [
    {
     "name": "stdout",
     "output_type": "stream",
     "text": [
      "           sport gender\n",
      "one    Wrestling      M\n",
      "three     Skiing      M\n"
     ]
    }
   ],
   "source": [
    "print(df1.iloc[[0, 2], [1, 2]])"
   ]
  },
  {
   "cell_type": "code",
   "execution_count": 62,
   "id": "ff25f778-30d2-49d1-b46f-a69651a66949",
   "metadata": {},
   "outputs": [
    {
     "name": "stdout",
     "output_type": "stream",
     "text": [
      "      name     sport gender  score  age  pass\n",
      "two    Tom  Football      M     80   20  True\n",
      "three  Tim    Skiing      M     85   17  True\n"
     ]
    }
   ],
   "source": [
    "print(df1.iloc[1:3, :])"
   ]
  },
  {
   "cell_type": "code",
   "execution_count": 63,
   "id": "7fe3a0dc-968e-40a7-bf55-ef94ef64df34",
   "metadata": {},
   "outputs": [
    {
     "name": "stdout",
     "output_type": "stream",
     "text": [
      "       name     sport gender  score\n",
      "two     Tom  Football      M     80\n",
      "three   Tim    Skiing      M     85\n",
      "four   John  Swimming      M     75\n"
     ]
    }
   ],
   "source": [
    "print(df1.iloc[1:4, 0:4])"
   ]
  },
  {
   "cell_type": "code",
   "execution_count": 64,
   "id": "d3fea34f-ef48-409d-be3d-b93e5bcf88a7",
   "metadata": {},
   "outputs": [
    {
     "name": "stdout",
     "output_type": "stream",
     "text": [
      "{'name': ['Bill', 'Tom', 'Tim', 'John', 'Alex', 'Vanessa', 'Kate'], 'score': [90, 80, 85, 75, 95, 60, 65], 'sport': ['Wrestling', 'Football', 'Skiing', 'Swimming', 'Tennis', 'Karete', 'Surfing'], 'sex': ['M', 'M', 'M', 'M', 'F', 'F', 'F']}\n"
     ]
    }
   ],
   "source": [
    "print(data)"
   ]
  },
  {
   "cell_type": "code",
   "execution_count": 65,
   "id": "c0387f67-f583-447c-b4a4-bb92690653ce",
   "metadata": {},
   "outputs": [
    {
     "name": "stdout",
     "output_type": "stream",
     "text": [
      "          one  two  three  four\n",
      "London      0    1      2     3\n",
      "Paris       4    5      6     7\n",
      "Berlin      8    9     10    11\n",
      "Istanbul   12   13     14    15\n"
     ]
    }
   ],
   "source": [
    "data = pd.DataFrame(\n",
    "np.arange(16).reshape(4, 4), \n",
    "index = ['London', 'Paris', 'Berlin', 'Istanbul'], \n",
    "columns = ['one', 'two', 'three', 'four'])\n",
    "\n",
    "print(data)"
   ]
  },
  {
   "cell_type": "code",
   "execution_count": 66,
   "id": "8e6cc355-336a-4bbf-b953-b33357bc41b3",
   "metadata": {},
   "outputs": [
    {
     "name": "stdout",
     "output_type": "stream",
     "text": [
      "          one  two\n",
      "London      0    1\n",
      "Paris       4    5\n",
      "Berlin      8    9\n",
      "Istanbul   12   13\n"
     ]
    }
   ],
   "source": [
    "print(data[[\"one\", \"two\"]])"
   ]
  },
  {
   "cell_type": "code",
   "execution_count": 67,
   "id": "6e157655-7a7d-45e6-b2e4-21ee2f1c1a80",
   "metadata": {},
   "outputs": [
    {
     "name": "stdout",
     "output_type": "stream",
     "text": [
      "        one  two  three  four\n",
      "London    0    1      2     3\n",
      "Paris     4    5      6     7\n",
      "Berlin    8    9     10    11\n"
     ]
    }
   ],
   "source": [
    "print(data[:3])"
   ]
  },
  {
   "cell_type": "code",
   "execution_count": 68,
   "id": "415ebc6c-40b0-4814-8ceb-1aeda0671ca1",
   "metadata": {},
   "outputs": [
    {
     "name": "stdout",
     "output_type": "stream",
     "text": [
      "two      5\n",
      "three    6\n",
      "four     7\n",
      "Name: Paris, dtype: int64\n"
     ]
    }
   ],
   "source": [
    "print(data.iloc[1, [1, 2, 3]])"
   ]
  },
  {
   "cell_type": "code",
   "execution_count": 69,
   "id": "e098c7c1-7c2c-4076-9737-8fc2e1c80e21",
   "metadata": {},
   "outputs": [
    {
     "name": "stdout",
     "output_type": "stream",
     "text": [
      "          two  three  four\n",
      "Paris       5      6     7\n",
      "Istanbul   13     14    15\n"
     ]
    }
   ],
   "source": [
    "print(data.iloc[[1, 3], [1, 2, 3]])"
   ]
  },
  {
   "cell_type": "code",
   "execution_count": 70,
   "id": "b3279978-d79c-4e7b-a30f-de16fc6193aa",
   "metadata": {},
   "outputs": [
    {
     "name": "stdout",
     "output_type": "stream",
     "text": [
      "one    4\n",
      "two    5\n",
      "Name: Paris, dtype: int64\n"
     ]
    }
   ],
   "source": [
    "print(data.loc[\"Paris\", [\"one\", \"two\"]])"
   ]
  },
  {
   "cell_type": "code",
   "execution_count": 71,
   "id": "1de2fd00-5b18-4d14-a951-4ff7162c49fa",
   "metadata": {},
   "outputs": [
    {
     "name": "stdout",
     "output_type": "stream",
     "text": [
      "London    3\n",
      "Paris     7\n",
      "Name: four, dtype: int64\n"
     ]
    }
   ],
   "source": [
    "print(data.loc[:\"Paris\", \"four\"])"
   ]
  },
  {
   "cell_type": "code",
   "execution_count": null,
   "id": "0e77cae1-d9a0-4bb0-8b08-30a196d02621",
   "metadata": {},
   "outputs": [],
   "source": []
  }
 ],
 "metadata": {
  "kernelspec": {
   "display_name": "Python 3 (ipykernel)",
   "language": "python",
   "name": "python3"
  },
  "language_info": {
   "codemirror_mode": {
    "name": "ipython",
    "version": 3
   },
   "file_extension": ".py",
   "mimetype": "text/x-python",
   "name": "python",
   "nbconvert_exporter": "python",
   "pygments_lexer": "ipython3",
   "version": "3.13.5"
  }
 },
 "nbformat": 4,
 "nbformat_minor": 5
}
